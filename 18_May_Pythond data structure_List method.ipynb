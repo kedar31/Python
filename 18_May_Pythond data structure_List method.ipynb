{
 "cells": [
  {
   "cell_type": "markdown",
   "id": "49445781",
   "metadata": {},
   "source": [
    "# List in Python\n",
    "### very very important"
   ]
  },
  {
   "cell_type": "markdown",
   "id": "26dee4c3",
   "metadata": {},
   "source": [
    "- List is mutable [we can change the memory space]\n",
    "- LIst has it own methods\n",
    "- List will be represented with squar bracket []\n",
    "- List can accept any data type"
   ]
  },
  {
   "cell_type": "code",
   "execution_count": 42,
   "id": "1812d78e",
   "metadata": {},
   "outputs": [
    {
     "name": "stdout",
     "output_type": "stream",
     "text": [
      "[10, 20, '30', 'Kedar', 40.98]\n"
     ]
    }
   ],
   "source": [
    "a = [10, 20, '30', 'Kedar', 40.98]\n",
    "print(a)"
   ]
  },
  {
   "cell_type": "code",
   "execution_count": 35,
   "id": "d6a68053",
   "metadata": {},
   "outputs": [
    {
     "name": "stdout",
     "output_type": "stream",
     "text": [
      "Kedar\n"
     ]
    }
   ],
   "source": [
    "#I want 'Kedar' word\n",
    "\n",
    "print(a[3])"
   ]
  },
  {
   "cell_type": "code",
   "execution_count": 37,
   "id": "61adf58e",
   "metadata": {},
   "outputs": [
    {
     "name": "stdout",
     "output_type": "stream",
     "text": [
      "a\n"
     ]
    }
   ],
   "source": [
    "# I want 'a' in 'Kedar' word\n",
    "# two methods\n",
    "\n",
    "#1\n",
    "print(a[3][3])"
   ]
  },
  {
   "cell_type": "code",
   "execution_count": 39,
   "id": "535f6471",
   "metadata": {},
   "outputs": [
    {
     "data": {
      "text/plain": [
       "'a'"
      ]
     },
     "execution_count": 39,
     "metadata": {},
     "output_type": "execute_result"
    }
   ],
   "source": [
    "#2nd method\n",
    "a[3][3]"
   ]
  },
  {
   "cell_type": "code",
   "execution_count": 44,
   "id": "d29a47b2",
   "metadata": {},
   "outputs": [
    {
     "data": {
      "text/plain": [
       "'3'"
      ]
     },
     "execution_count": 44,
     "metadata": {},
     "output_type": "execute_result"
    }
   ],
   "source": [
    "# I want '3' in 30\n",
    "a[2][0]"
   ]
  },
  {
   "cell_type": "code",
   "execution_count": 46,
   "id": "d3cb7e48",
   "metadata": {},
   "outputs": [
    {
     "name": "stdout",
     "output_type": "stream",
     "text": [
      "40.98\n"
     ]
    }
   ],
   "source": [
    "print(a[-1])"
   ]
  },
  {
   "cell_type": "code",
   "execution_count": 48,
   "id": "29180499",
   "metadata": {},
   "outputs": [
    {
     "name": "stdout",
     "output_type": "stream",
     "text": [
      "[40.98, 'Kedar', '30', 20, 10]\n"
     ]
    }
   ],
   "source": [
    "#reverse\n",
    "print(a[::-1])\n"
   ]
  },
  {
   "cell_type": "code",
   "execution_count": 51,
   "id": "9d09eb64",
   "metadata": {},
   "outputs": [
    {
     "name": "stdout",
     "output_type": "stream",
     "text": [
      "[10, 20, '30', 'Kedar']\n"
     ]
    }
   ],
   "source": [
    "print(a[:4])"
   ]
  },
  {
   "cell_type": "code",
   "execution_count": 52,
   "id": "bce0d57b",
   "metadata": {},
   "outputs": [],
   "source": [
    "# we need to prove that List is mutable\n",
    "\n",
    "# check adding memory space \n",
    "# check replace in the same memory sapce \n",
    "# check delete memory sapce"
   ]
  },
  {
   "cell_type": "code",
   "execution_count": 65,
   "id": "d1807be7",
   "metadata": {},
   "outputs": [
    {
     "name": "stdout",
     "output_type": "stream",
     "text": [
      "[10, 100, 200.5, 'data science']\n"
     ]
    }
   ],
   "source": [
    "a = [10, 100,200.5,'data science']\n",
    "print(a)"
   ]
  },
  {
   "cell_type": "code",
   "execution_count": 64,
   "id": "01fd5870",
   "metadata": {},
   "outputs": [],
   "source": [
    "# manually will assign memory space\n",
    "# manually we cannot create memory space"
   ]
  },
  {
   "cell_type": "code",
   "execution_count": 57,
   "id": "d47fac2b",
   "metadata": {},
   "outputs": [],
   "source": [
    "# there is a method called append in list which gives permission to add memory space "
   ]
  },
  {
   "cell_type": "markdown",
   "id": "6fe4fee7",
   "metadata": {},
   "source": [
    "#### append"
   ]
  },
  {
   "cell_type": "code",
   "execution_count": 2,
   "id": "b7892c9e",
   "metadata": {},
   "outputs": [],
   "source": [
    "# append method gives permission to add memory space\n",
    "a = [10,30,40]\n",
    "a.append(1000)"
   ]
  },
  {
   "cell_type": "code",
   "execution_count": 11,
   "id": "77352c0c",
   "metadata": {},
   "outputs": [
    {
     "name": "stdout",
     "output_type": "stream",
     "text": [
      "[10, 30, 40, 1000]\n"
     ]
    }
   ],
   "source": [
    "print(a)"
   ]
  },
  {
   "cell_type": "code",
   "execution_count": 24,
   "id": "572dee21",
   "metadata": {},
   "outputs": [
    {
     "name": "stdout",
     "output_type": "stream",
     "text": [
      "['kedar', 20, 30, 'Sapar']\n",
      "['kedar', 20, 30, 'Sapar', 'Gajanan']\n",
      "['kedar', 20, 30, 'Sapar', 'Gajanan', 'pagal']\n",
      "p\n"
     ]
    }
   ],
   "source": [
    "l = ['kedar',20, 30,'Sapar']\n",
    "print(l)\n",
    "l.append('Gajanan')\n",
    "print(l)\n",
    "l.append('pagal')\n",
    "print(l)\n",
    "print(l[3][2])"
   ]
  }
 ],
 "metadata": {
  "kernelspec": {
   "display_name": "Python 3 (ipykernel)",
   "language": "python",
   "name": "python3"
  },
  "language_info": {
   "codemirror_mode": {
    "name": "ipython",
    "version": 3
   },
   "file_extension": ".py",
   "mimetype": "text/x-python",
   "name": "python",
   "nbconvert_exporter": "python",
   "pygments_lexer": "ipython3",
   "version": "3.10.9"
  }
 },
 "nbformat": 4,
 "nbformat_minor": 5
}
