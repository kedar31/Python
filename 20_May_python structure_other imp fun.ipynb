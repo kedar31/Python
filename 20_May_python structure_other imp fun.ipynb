{
 "cells": [
  {
   "cell_type": "code",
   "execution_count": 1,
   "id": "1f23a5ad",
   "metadata": {},
   "outputs": [],
   "source": [
    "# math operation in strings\n",
    "# split fun in string\n",
    "# join fun in string\n",
    "# membership fun in stringand list \n",
    "# lenth fun, sum fun, maximum, minimum fun \n",
    "\n",
    "# this fun we need to complete"
   ]
  },
  {
   "cell_type": "markdown",
   "id": "15dc1c7b",
   "metadata": {},
   "source": [
    "### Math operation in strings"
   ]
  },
  {
   "cell_type": "code",
   "execution_count": 3,
   "id": "c5412c0c",
   "metadata": {},
   "outputs": [
    {
     "name": "stdout",
     "output_type": "stream",
     "text": [
      "True\n"
     ]
    }
   ],
   "source": [
    "value1 = 'ab'\n",
    "value2 = 'AB'\n",
    "print(value1>value2)"
   ]
  },
  {
   "cell_type": "code",
   "execution_count": 20,
   "id": "5bbb9982",
   "metadata": {},
   "outputs": [
    {
     "name": "stdout",
     "output_type": "stream",
     "text": [
      "True\n"
     ]
    }
   ],
   "source": [
    "value1 = 'ab'\n",
    "value2 = 'AB'\n",
    "\n",
    "# How value1 > value2\n",
    "#there is term in programming launage is called ASCII values \n",
    "# ASCII --> (Americal Standard Code of Information Interchange)\n",
    "\n",
    "# and \n",
    "# a is start from 97              # A is start from 65  (As per Ascii code rule)\n",
    "\n",
    "# a -----> 97                     # A ------> 65\n",
    "# b -----> 98                     # B ------> 66\n",
    "# c -----> 99 ...till             # C ------> 67....till\n",
    "#.                                # .\n",
    "#.                                # . \n",
    "# z ------> 122                   # Z ------>90\n",
    "\n",
    "# There for \n",
    "#Value1 is 'ab' i.e. 97*98 = 9,506\n",
    "#Value2 is 'AB' i.e. 65*66 = 4,290\n",
    "\n",
    "# It means Value1 is greater than Value2\n",
    "\n",
    "# Hence \n",
    "print(value1 > value2)"
   ]
  },
  {
   "cell_type": "code",
   "execution_count": 21,
   "id": "2c19da20",
   "metadata": {},
   "outputs": [
    {
     "data": {
      "text/plain": [
       "122"
      ]
     },
     "execution_count": 21,
     "metadata": {},
     "output_type": "execute_result"
    }
   ],
   "source": [
    "ord('z')"
   ]
  },
  {
   "cell_type": "code",
   "execution_count": 24,
   "id": "a65b945d",
   "metadata": {},
   "outputs": [
    {
     "name": "stdout",
     "output_type": "stream",
     "text": [
      "True\n"
     ]
    }
   ],
   "source": [
    "# Membership fun: its a boolean outcome\n",
    "\n",
    "# it help to there is particular value availble in varible \n",
    "\n",
    "a = [10,20,30.5,'Kedar']\n",
    "print(20 in a)\n",
    "\n",
    "# 20 value availble in variable a\n"
   ]
  },
  {
   "cell_type": "code",
   "execution_count": 32,
   "id": "f1f0cff7",
   "metadata": {},
   "outputs": [
    {
     "name": "stdout",
     "output_type": "stream",
     "text": [
      "True\n",
      "False\n"
     ]
    }
   ],
   "source": [
    "K = ['Ram', 'Kedar','Prasad', 'Diksha','samosa','pritesh']\n",
    "print('samosa' in K)\n",
    "print('Rahul' in K)"
   ]
  },
  {
   "cell_type": "markdown",
   "id": "d85a0b78",
   "metadata": {},
   "source": [
    "#### Len, sum, max, min in str:"
   ]
  },
  {
   "cell_type": "code",
   "execution_count": 41,
   "id": "e43be71e",
   "metadata": {},
   "outputs": [
    {
     "name": "stdout",
     "output_type": "stream",
     "text": [
      "11\n"
     ]
    }
   ],
   "source": [
    "# len\n",
    "a = 'kedar sapar'\n",
    "\n",
    "# length = will gives you the number of characters\n",
    "\n",
    "print(len(a))"
   ]
  },
  {
   "cell_type": "code",
   "execution_count": 47,
   "id": "19948447",
   "metadata": {},
   "outputs": [
    {
     "name": "stdout",
     "output_type": "stream",
     "text": [
      "241\n"
     ]
    }
   ],
   "source": [
    "# sum\n",
    "\n",
    "a = 50,50,40,11,90\n",
    "# sum = add each ascii value\n",
    "print(sum(a))"
   ]
  },
  {
   "cell_type": "code",
   "execution_count": 65,
   "id": "f313c8dc",
   "metadata": {},
   "outputs": [
    {
     "name": "stdout",
     "output_type": "stream",
     "text": [
      "90\n"
     ]
    }
   ],
   "source": [
    "# min = based on ascii code (please find the 20th cell explanation)\n",
    "\n",
    "l = 90,1,0,33\n",
    "print(max(l))\n"
   ]
  },
  {
   "cell_type": "code",
   "execution_count": 68,
   "id": "58a56dec",
   "metadata": {},
   "outputs": [
    {
     "name": "stdout",
     "output_type": "stream",
     "text": [
      "5\n"
     ]
    }
   ],
   "source": [
    "# list\n",
    "\n",
    "a = [10,20,30,40.5, 90]\n",
    "print(len(a))\n"
   ]
  },
  {
   "cell_type": "code",
   "execution_count": 73,
   "id": "50828774",
   "metadata": {},
   "outputs": [
    {
     "name": "stdout",
     "output_type": "stream",
     "text": [
      "5\n",
      "190.5\n",
      "10\n",
      "90\n"
     ]
    }
   ],
   "source": [
    "a = [10,20,30,40.5, 90]\n",
    "\n",
    "print(len(a)) # gives you no of character\n",
    "print(sum(a)) # add the no in variables\n",
    "print(min(a)) # identify the min no in variable\n",
    "print(max(a)) # identify the  max no in variable"
   ]
  },
  {
   "cell_type": "markdown",
   "id": "f4d76e8d",
   "metadata": {},
   "source": [
    "## Split function and Join function \n",
    "#### (Very Very important topics)"
   ]
  },
  {
   "cell_type": "code",
   "execution_count": 116,
   "id": "2a9d7b97",
   "metadata": {},
   "outputs": [
    {
     "data": {
      "text/plain": [
       "['Kedar', 'is', 'a', 'good', 'guy']"
      ]
     },
     "execution_count": 116,
     "metadata": {},
     "output_type": "execute_result"
    }
   ],
   "source": [
    "# split\n",
    "a = 'Kedar is a good guy'\n",
    "a.split()\n"
   ]
  },
  {
   "cell_type": "code",
   "execution_count": 120,
   "id": "84ae7411",
   "metadata": {},
   "outputs": [
    {
     "name": "stdout",
     "output_type": "stream",
     "text": [
      "['I work in India', ' I love India', ' I like India', ' I want India', ' India']\n"
     ]
    }
   ],
   "source": [
    "# we can split where we want\n",
    "\n",
    "a = 'I work in India- I love India- I like India- I want India- India'\n",
    "k = a.split('-')\n",
    "print(k)\n",
    "\n",
    "# once using the split, output will be in the form of list\n"
   ]
  },
  {
   "cell_type": "code",
   "execution_count": 129,
   "id": "bade8c1b",
   "metadata": {},
   "outputs": [
    {
     "name": "stdout",
     "output_type": "stream",
     "text": [
      "I work in India I love India I like India I want India India\n"
     ]
    }
   ],
   "source": [
    "# Join fun : is used to join each word\n",
    "\n",
    "s = ''.join(k)\n",
    "print(s)"
   ]
  },
  {
   "cell_type": "code",
   "execution_count": 138,
   "id": "46db0d6d",
   "metadata": {},
   "outputs": [
    {
     "name": "stdout",
     "output_type": "stream",
     "text": [
      "['Kedar Gajana', ' Sapar', ' India']\n"
     ]
    }
   ],
   "source": [
    "a = 'Kedar Gajana, Sapar, India'\n",
    "o = a.split(',')\n",
    "print(o)\n"
   ]
  },
  {
   "cell_type": "code",
   "execution_count": 144,
   "id": "16928ea9",
   "metadata": {},
   "outputs": [
    {
     "data": {
      "text/plain": [
       "'Kedar Gajana Sapar India'"
      ]
     },
     "execution_count": 144,
     "metadata": {},
     "output_type": "execute_result"
    }
   ],
   "source": [
    "''.join(o)"
   ]
  },
  {
   "cell_type": "code",
   "execution_count": 154,
   "id": "8adcb04d",
   "metadata": {},
   "outputs": [
    {
     "name": "stdout",
     "output_type": "stream",
     "text": [
      "['Kedar', 'Gajana', 'Sapar']\n"
     ]
    },
    {
     "data": {
      "text/plain": [
       "'Kedar Gajana Sapar'"
      ]
     },
     "execution_count": 154,
     "metadata": {},
     "output_type": "execute_result"
    }
   ],
   "source": [
    "# one more example\n",
    "a = ['Kedar','Gajana','Sapar']\n",
    "print(a)\n",
    "' '.join(a)"
   ]
  },
  {
   "cell_type": "code",
   "execution_count": 203,
   "id": "80770de6",
   "metadata": {},
   "outputs": [
    {
     "name": "stdout",
     "output_type": "stream",
     "text": [
      "<class 'list'>\n",
      "<class 'list'>\n"
     ]
    },
    {
     "data": {
      "text/plain": [
       "'What are you doing ?'"
      ]
     },
     "execution_count": 203,
     "metadata": {},
     "output_type": "execute_result"
    }
   ],
   "source": [
    "# one more example\n",
    "\n",
    "g = ['What','are','you','doing','?',25]\n",
    "print(type(g))\n",
    "g.pop()\n",
    "print(type(g))\n",
    "k = str\n",
    "' '.join(g)\n"
   ]
  },
  {
   "cell_type": "code",
   "execution_count": 204,
   "id": "36d2b8d6",
   "metadata": {},
   "outputs": [
    {
     "name": "stdout",
     "output_type": "stream",
     "text": [
      "<class 'str'>\n",
      "<class 'int'>\n"
     ]
    }
   ],
   "source": [
    "a = '10'\n",
    "print(type(a))\n",
    "a = int(a)\n",
    "print(type(a))"
   ]
  },
  {
   "cell_type": "code",
   "execution_count": 210,
   "id": "bb21a065",
   "metadata": {},
   "outputs": [
    {
     "name": "stdout",
     "output_type": "stream",
     "text": [
      "<class 'str'>\n"
     ]
    },
    {
     "data": {
      "text/plain": [
       "'Kedar'"
      ]
     },
     "execution_count": 210,
     "metadata": {},
     "output_type": "execute_result"
    }
   ],
   "source": [
    "a = 'Kedar'\n",
    "print(type(a))\n",
    "''.join(a)"
   ]
  },
  {
   "cell_type": "code",
   "execution_count": 223,
   "id": "79c18482",
   "metadata": {},
   "outputs": [
    {
     "name": "stdout",
     "output_type": "stream",
     "text": [
      "language.programming.love.I\n"
     ]
    }
   ],
   "source": [
    "# new example\n",
    "\n",
    "value = 'I.love.programming.language'\n",
    "\n",
    "#  I want out put = language.programming.love.I\n",
    "\n",
    "b = value.split('.')\n",
    "c = b[::-1]\n",
    "d = '.'.join(c)\n",
    "print(d)"
   ]
  },
  {
   "cell_type": "code",
   "execution_count": 237,
   "id": "7b9404a6",
   "metadata": {},
   "outputs": [
    {
     "name": "stdout",
     "output_type": "stream",
     "text": [
      "very very bad person.\n"
     ]
    }
   ],
   "source": [
    "kedar = 'person.very.very.bad'\n",
    "# I want output : Very Very bad person.\n",
    "b = kedar.split('.')\n",
    "b.remove('person')\n",
    "b.append('person.')\n",
    "c = ' '.join(b)\n",
    "print(c)"
   ]
  }
 ],
 "metadata": {
  "kernelspec": {
   "display_name": "Python 3 (ipykernel)",
   "language": "python",
   "name": "python3"
  },
  "language_info": {
   "codemirror_mode": {
    "name": "ipython",
    "version": 3
   },
   "file_extension": ".py",
   "mimetype": "text/x-python",
   "name": "python",
   "nbconvert_exporter": "python",
   "pygments_lexer": "ipython3",
   "version": "3.10.9"
  }
 },
 "nbformat": 4,
 "nbformat_minor": 5
}
