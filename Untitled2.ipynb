{
 "cells": [
  {
   "cell_type": "code",
   "execution_count": 8,
   "id": "75725bfa",
   "metadata": {},
   "outputs": [
    {
     "name": "stdout",
     "output_type": "stream",
     "text": [
      "{1, 2, 3, 4, 5}\n",
      "{1, 2, 3, 'foo', 'bar'}\n",
      "<class 'set'>\n"
     ]
    }
   ],
   "source": [
    "a = set([1,2,3,4,5])\n",
    "print(a)\n",
    "\n",
    "n = {1,2,3,\"foo\",\"bar\"}\n",
    "print(n)\n",
    "print(type(n))"
   ]
  }
 ],
 "metadata": {
  "kernelspec": {
   "display_name": "Python 3 (ipykernel)",
   "language": "python",
   "name": "python3"
  },
  "language_info": {
   "codemirror_mode": {
    "name": "ipython",
    "version": 3
   },
   "file_extension": ".py",
   "mimetype": "text/x-python",
   "name": "python",
   "nbconvert_exporter": "python",
   "pygments_lexer": "ipython3",
   "version": "3.10.9"
  }
 },
 "nbformat": 4,
 "nbformat_minor": 5
}
