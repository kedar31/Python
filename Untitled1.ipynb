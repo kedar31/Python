{
 "cells": [
  {
   "cell_type": "markdown",
   "id": "b28c9cbc",
   "metadata": {},
   "source": [
    "# List"
   ]
  },
  {
   "cell_type": "markdown",
   "id": "39ad4903",
   "metadata": {},
   "source": [
    "#### 1. append"
   ]
  },
  {
   "cell_type": "code",
   "execution_count": 3,
   "id": "02715a3c",
   "metadata": {},
   "outputs": [
    {
     "name": "stdout",
     "output_type": "stream",
     "text": [
      "[10, 20, 30, 40, 'kedar']\n"
     ]
    }
   ],
   "source": [
    "# there is a mthod called append in list which gives permission to add memory space\n",
    "\n",
    "a = [10,20,30,40,'kedar']\n",
    "print(a)"
   ]
  },
  {
   "cell_type": "code",
   "execution_count": 12,
   "id": "c6f98a15",
   "metadata": {},
   "outputs": [
    {
     "name": "stdout",
     "output_type": "stream",
     "text": [
      "[10, 20, 30, 40, 'kedar', 1000, 1000, 'kedar', 'kedar', 1000, 1000, 1000, 1000]\n"
     ]
    }
   ],
   "source": [
    "# I want to add '1000' in memory sapce\n",
    "a.append(1000)\n",
    "print(a)\n",
    "\n",
    "# append metnod will create memory space only at the end"
   ]
  },
  {
   "cell_type": "code",
   "execution_count": 16,
   "id": "0bbfbbb4",
   "metadata": {},
   "outputs": [
    {
     "name": "stdout",
     "output_type": "stream",
     "text": [
      "[10, 20, 30, 40, 'kedar', 1000, 1000, 'kedar', 'kedar', 1000, 1000, 1000, 1000, 'Kedar', 'Kedar', 'Kedar']\n"
     ]
    }
   ],
   "source": [
    "a.append('Kedar')\n",
    "print(a)"
   ]
  },
  {
   "cell_type": "code",
   "execution_count": 18,
   "id": "41650f14",
   "metadata": {},
   "outputs": [
    {
     "name": "stdout",
     "output_type": "stream",
     "text": [
      "[10, 20, 30]\n"
     ]
    }
   ],
   "source": [
    "k = [10,20,30]\n",
    "print(k)"
   ]
  },
  {
   "cell_type": "code",
   "execution_count": 22,
   "id": "d7b05142",
   "metadata": {},
   "outputs": [
    {
     "name": "stdout",
     "output_type": "stream",
     "text": [
      "[10, 20, 30, 'Kedar', 'Kedar', 'Kedar', 'Kedar']\n"
     ]
    }
   ],
   "source": [
    "k.append('Kedar')\n",
    "print(k)"
   ]
  },
  {
   "cell_type": "code",
   "execution_count": 23,
   "id": "c482de8f",
   "metadata": {},
   "outputs": [
    {
     "data": {
      "text/plain": [
       "[10, 20, 30]"
      ]
     },
     "execution_count": 23,
     "metadata": {},
     "output_type": "execute_result"
    }
   ],
   "source": [
    "# insert method can be use to create a memory space wherever you want\n",
    "b = [10,20,30]\n",
    "b"
   ]
  }
 ],
 "metadata": {
  "kernelspec": {
   "display_name": "Python 3 (ipykernel)",
   "language": "python",
   "name": "python3"
  },
  "language_info": {
   "codemirror_mode": {
    "name": "ipython",
    "version": 3
   },
   "file_extension": ".py",
   "mimetype": "text/x-python",
   "name": "python",
   "nbconvert_exporter": "python",
   "pygments_lexer": "ipython3",
   "version": "3.10.9"
  }
 },
 "nbformat": 4,
 "nbformat_minor": 5
}
