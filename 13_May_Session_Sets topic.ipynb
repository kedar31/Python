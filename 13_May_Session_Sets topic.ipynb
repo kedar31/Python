{
 "cells": [
  {
   "cell_type": "code",
   "execution_count": 2,
   "id": "3a3e868a",
   "metadata": {},
   "outputs": [],
   "source": [
    "#str, list, tuple --> completed"
   ]
  },
  {
   "cell_type": "markdown",
   "id": "c5a5360b",
   "metadata": {},
   "source": [
    "### Python sets"
   ]
  },
  {
   "cell_type": "code",
   "execution_count": 3,
   "id": "86669e95",
   "metadata": {},
   "outputs": [],
   "source": [
    "#sets are mutable\n",
    "#Sets can be represetend with {} -> flower bracket"
   ]
  },
  {
   "cell_type": "code",
   "execution_count": 5,
   "id": "cd5956ed",
   "metadata": {},
   "outputs": [
    {
     "name": "stdout",
     "output_type": "stream",
     "text": [
      "{10, 45.5, 'Python'}\n"
     ]
    }
   ],
   "source": [
    "a = {10, 45.5, 'Python'}\n",
    "print(a)"
   ]
  },
  {
   "cell_type": "code",
   "execution_count": 6,
   "id": "544bdb0c",
   "metadata": {},
   "outputs": [
    {
     "name": "stdout",
     "output_type": "stream",
     "text": [
      "<class 'set'>\n"
     ]
    }
   ],
   "source": [
    "print(type(a))"
   ]
  }
 ],
 "metadata": {
  "kernelspec": {
   "display_name": "Python 3 (ipykernel)",
   "language": "python",
   "name": "python3"
  },
  "language_info": {
   "codemirror_mode": {
    "name": "ipython",
    "version": 3
   },
   "file_extension": ".py",
   "mimetype": "text/x-python",
   "name": "python",
   "nbconvert_exporter": "python",
   "pygments_lexer": "ipython3",
   "version": "3.10.9"
  }
 },
 "nbformat": 4,
 "nbformat_minor": 5
}
