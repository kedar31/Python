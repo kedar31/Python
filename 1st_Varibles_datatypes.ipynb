{
 "cells": [
  {
   "cell_type": "markdown",
   "id": "b1fc3d8e",
   "metadata": {},
   "source": [
    "## Data Types"
   ]
  },
  {
   "cell_type": "code",
   "execution_count": 40,
   "id": "894c17ce",
   "metadata": {},
   "outputs": [],
   "source": [
    "a = 100"
   ]
  },
  {
   "cell_type": "code",
   "execution_count": 42,
   "id": "58824460",
   "metadata": {},
   "outputs": [
    {
     "name": "stdout",
     "output_type": "stream",
     "text": [
      "100\n"
     ]
    }
   ],
   "source": [
    "print(a)"
   ]
  },
  {
   "cell_type": "code",
   "execution_count": 45,
   "id": "fae3f985",
   "metadata": {},
   "outputs": [
    {
     "name": "stdout",
     "output_type": "stream",
     "text": [
      "150\n",
      "<class 'int'>\n"
     ]
    }
   ],
   "source": [
    "# integer\n",
    "a = 150\n",
    "print(a)\n",
    "print(type(a))"
   ]
  },
  {
   "cell_type": "code",
   "execution_count": 47,
   "id": "0f472497",
   "metadata": {},
   "outputs": [
    {
     "name": "stdout",
     "output_type": "stream",
     "text": [
      "150.22\n",
      "<class 'float'>\n"
     ]
    }
   ],
   "source": [
    "# Float\n",
    "a = 150.22\n",
    "print(a)\n",
    "print(type(a))"
   ]
  },
  {
   "cell_type": "code",
   "execution_count": 50,
   "id": "052b5e57",
   "metadata": {},
   "outputs": [
    {
     "name": "stdout",
     "output_type": "stream",
     "text": [
      "Kedar\n",
      "<class 'str'>\n"
     ]
    }
   ],
   "source": [
    "# string\n",
    "a = 'Kedar'\n",
    "print(a)\n",
    "print(type(a))"
   ]
  },
  {
   "cell_type": "markdown",
   "id": "8990eab3",
   "metadata": {},
   "source": [
    "## Variables Rules"
   ]
  },
  {
   "cell_type": "markdown",
   "id": "9b7bb73f",
   "metadata": {},
   "source": [
    "#### Rule 1 - Variable shold not start with  the number. Please find below example"
   ]
  },
  {
   "cell_type": "code",
   "execution_count": 67,
   "id": "12298dcd",
   "metadata": {},
   "outputs": [
    {
     "ename": "SyntaxError",
     "evalue": "invalid decimal literal (2368312348.py, line 1)",
     "output_type": "error",
     "traceback": [
      "\u001b[1;36m  Cell \u001b[1;32mIn[67], line 1\u001b[1;36m\u001b[0m\n\u001b[1;33m    11a = 12\u001b[0m\n\u001b[1;37m     ^\u001b[0m\n\u001b[1;31mSyntaxError\u001b[0m\u001b[1;31m:\u001b[0m invalid decimal literal\n"
     ]
    }
   ],
   "source": [
    "11a = 12\n",
    "print(a)\n"
   ]
  },
  {
   "cell_type": "markdown",
   "id": "ecaf8fe3",
   "metadata": {},
   "source": [
    "#### Rule 2 - If you want to start a variable with the number means use Underscore _ then it's fine..Please find below example"
   ]
  },
  {
   "cell_type": "code",
   "execution_count": 8,
   "id": "d5921ef5",
   "metadata": {},
   "outputs": [
    {
     "name": "stdout",
     "output_type": "stream",
     "text": [
      "26\n",
      "<class 'int'>\n"
     ]
    }
   ],
   "source": [
    "_12a = 13 + 13\n",
    "print(_12a)\n",
    "print(type(_12a))"
   ]
  },
  {
   "cell_type": "code",
   "execution_count": 10,
   "id": "019fc9db",
   "metadata": {},
   "outputs": [
    {
     "name": "stdout",
     "output_type": "stream",
     "text": [
      "12.0\n",
      "<class 'float'>\n"
     ]
    }
   ],
   "source": [
    "a = 12.0\n",
    "print(a)\n",
    "print(type(a))"
   ]
  },
  {
   "cell_type": "markdown",
   "id": "1800dae8",
   "metadata": {},
   "source": [
    "#### Rule 3 - No space in variables if you want to connect them using underscore _ ...Please find below example "
   ]
  },
  {
   "cell_type": "code",
   "execution_count": 71,
   "id": "704f5a48",
   "metadata": {},
   "outputs": [
    {
     "ename": "SyntaxError",
     "evalue": "invalid syntax (703563733.py, line 1)",
     "output_type": "error",
     "traceback": [
      "\u001b[1;36m  Cell \u001b[1;32mIn[71], line 1\u001b[1;36m\u001b[0m\n\u001b[1;33m    Kedar age = 27\u001b[0m\n\u001b[1;37m          ^\u001b[0m\n\u001b[1;31mSyntaxError\u001b[0m\u001b[1;31m:\u001b[0m invalid syntax\n"
     ]
    }
   ],
   "source": [
    "Kedar age = 27"
   ]
  },
  {
   "cell_type": "code",
   "execution_count": 74,
   "id": "8e8c8198",
   "metadata": {},
   "outputs": [
    {
     "name": "stdout",
     "output_type": "stream",
     "text": [
      "27\n"
     ]
    }
   ],
   "source": [
    "Kedar_age = 27\n",
    "print(Kedar_age)"
   ]
  },
  {
   "cell_type": "markdown",
   "id": "ae12ba06",
   "metadata": {},
   "source": [
    "#### Rule 4 - Caes sensitive [Python is case sensitive language]********####Very much important que for interview"
   ]
  },
  {
   "cell_type": "code",
   "execution_count": 79,
   "id": "26171fe5",
   "metadata": {},
   "outputs": [
    {
     "ename": "NameError",
     "evalue": "name 'A' is not defined",
     "output_type": "error",
     "traceback": [
      "\u001b[1;31m---------------------------------------------------------------------------\u001b[0m",
      "\u001b[1;31mNameError\u001b[0m                                 Traceback (most recent call last)",
      "Cell \u001b[1;32mIn[79], line 2\u001b[0m\n\u001b[0;32m      1\u001b[0m a \u001b[38;5;241m=\u001b[39m \u001b[38;5;241m100\u001b[39m\n\u001b[1;32m----> 2\u001b[0m \u001b[38;5;28mprint\u001b[39m(\u001b[43mA\u001b[49m)\n",
      "\u001b[1;31mNameError\u001b[0m: name 'A' is not defined"
     ]
    }
   ],
   "source": [
    "a = 100\n",
    "print(A)\n",
    "\n",
    "#Variable is case sensitive"
   ]
  },
  {
   "cell_type": "markdown",
   "id": "0e0be433",
   "metadata": {},
   "source": [
    "#### Rule 5 - Don't use this  symbols !\"#$%&\\'()*+,-./:;<=>?@[\\\\]^_`{|}~ as a variables"
   ]
  },
  {
   "cell_type": "code",
   "execution_count": 82,
   "id": "dc3cefb9",
   "metadata": {},
   "outputs": [
    {
     "ename": "SyntaxError",
     "evalue": "invalid syntax (1294908388.py, line 2)",
     "output_type": "error",
     "traceback": [
      "\u001b[1;36m  Cell \u001b[1;32mIn[82], line 2\u001b[1;36m\u001b[0m\n\u001b[1;33m    $ = 82\u001b[0m\n\u001b[1;37m    ^\u001b[0m\n\u001b[1;31mSyntaxError\u001b[0m\u001b[1;31m:\u001b[0m invalid syntax\n"
     ]
    }
   ],
   "source": [
    "# for example \n",
    "$ = 82"
   ]
  }
 ],
 "metadata": {
  "kernelspec": {
   "display_name": "Python 3 (ipykernel)",
   "language": "python",
   "name": "python3"
  },
  "language_info": {
   "codemirror_mode": {
    "name": "ipython",
    "version": 3
   },
   "file_extension": ".py",
   "mimetype": "text/x-python",
   "name": "python",
   "nbconvert_exporter": "python",
   "pygments_lexer": "ipython3",
   "version": "3.10.9"
  }
 },
 "nbformat": 4,
 "nbformat_minor": 5
}
