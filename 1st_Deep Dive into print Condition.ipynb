{
 "cells": [
  {
   "cell_type": "markdown",
   "id": "a33da73e",
   "metadata": {},
   "source": [
    "### Deep Dive into Print condition"
   ]
  },
  {
   "cell_type": "code",
   "execution_count": 15,
   "id": "9c3505eb",
   "metadata": {},
   "outputs": [
    {
     "name": "stdout",
     "output_type": "stream",
     "text": [
      "kedar sapar\n"
     ]
    }
   ],
   "source": [
    "# print whatever you want\n",
    "print('kedar sapar')"
   ]
  },
  {
   "cell_type": "code",
   "execution_count": 9,
   "id": "28df5be5",
   "metadata": {},
   "outputs": [
    {
     "name": "stdout",
     "output_type": "stream",
     "text": [
      "datascience\n"
     ]
    }
   ],
   "source": [
    "print('datascience')"
   ]
  },
  {
   "cell_type": "code",
   "execution_count": 13,
   "id": "f4eed493",
   "metadata": {},
   "outputs": [
    {
     "name": "stdout",
     "output_type": "stream",
     "text": [
      "Kya chal raha jindagi me ..Training acchi chal rhi hai na\n"
     ]
    }
   ],
   "source": [
    "print('Kya chal raha jindagi me ..Training acchi chal rhi hai na')"
   ]
  },
  {
   "cell_type": "code",
   "execution_count": 17,
   "id": "963ce3b6",
   "metadata": {},
   "outputs": [
    {
     "ename": "NameError",
     "evalue": "name 'kedar' is not defined",
     "output_type": "error",
     "traceback": [
      "\u001b[1;31m---------------------------------------------------------------------------\u001b[0m",
      "\u001b[1;31mNameError\u001b[0m                                 Traceback (most recent call last)",
      "Cell \u001b[1;32mIn[17], line 4\u001b[0m\n\u001b[0;32m      1\u001b[0m \u001b[38;5;66;03m# if you try to print wihtout typing 'print' it wont work\u001b[39;00m\n\u001b[0;32m      2\u001b[0m \u001b[38;5;66;03m#example\u001b[39;00m\n\u001b[1;32m----> 4\u001b[0m \u001b[43mkedar\u001b[49m\n",
      "\u001b[1;31mNameError\u001b[0m: name 'kedar' is not defined"
     ]
    }
   ],
   "source": [
    "# if you try to print wihtout typing 'print' it wont work\n",
    "#example\n",
    "\n",
    "kedar"
   ]
  },
  {
   "cell_type": "markdown",
   "id": "05aea1f4",
   "metadata": {},
   "source": [
    "### Note - If you type print 'P' then code will not work...Always type p small in print"
   ]
  },
  {
   "cell_type": "code",
   "execution_count": 20,
   "id": "902bdb28",
   "metadata": {},
   "outputs": [
    {
     "ename": "NameError",
     "evalue": "name 'Print' is not defined",
     "output_type": "error",
     "traceback": [
      "\u001b[1;31m---------------------------------------------------------------------------\u001b[0m",
      "\u001b[1;31mNameError\u001b[0m                                 Traceback (most recent call last)",
      "Cell \u001b[1;32mIn[20], line 3\u001b[0m\n\u001b[0;32m      1\u001b[0m \u001b[38;5;66;03m#example \u001b[39;00m\n\u001b[0;32m      2\u001b[0m kedar \u001b[38;5;241m=\u001b[39m \u001b[38;5;241m10\u001b[39m\n\u001b[1;32m----> 3\u001b[0m \u001b[43mPrint\u001b[49m(kedar)\n",
      "\u001b[1;31mNameError\u001b[0m: name 'Print' is not defined"
     ]
    }
   ],
   "source": [
    "#example \n",
    "kedar = 10\n",
    "Print(kedar)"
   ]
  },
  {
   "cell_type": "markdown",
   "id": "8e3b9802",
   "metadata": {},
   "source": [
    "### we can use ' ', \" \", \"\"\" \"\"\" in python version 3"
   ]
  },
  {
   "cell_type": "code",
   "execution_count": 22,
   "id": "8bfad600",
   "metadata": {},
   "outputs": [
    {
     "name": "stdout",
     "output_type": "stream",
     "text": [
      "single coat\n"
     ]
    }
   ],
   "source": [
    "print('single coat')"
   ]
  },
  {
   "cell_type": "code",
   "execution_count": 24,
   "id": "ad8d0935",
   "metadata": {},
   "outputs": [
    {
     "name": "stdout",
     "output_type": "stream",
     "text": [
      " double coat\n"
     ]
    }
   ],
   "source": [
    "print(\" double coat\")"
   ]
  },
  {
   "cell_type": "code",
   "execution_count": 26,
   "id": "7522fe72",
   "metadata": {},
   "outputs": [
    {
     "name": "stdout",
     "output_type": "stream",
     "text": [
      "tripple coat\n"
     ]
    }
   ],
   "source": [
    "print(\"\"\"tripple coat\"\"\")"
   ]
  },
  {
   "cell_type": "markdown",
   "id": "69c221eb",
   "metadata": {},
   "source": [
    "## Connect variables with print condition (4 different ways)"
   ]
  },
  {
   "cell_type": "markdown",
   "id": "37a82d6b",
   "metadata": {},
   "source": [
    "#### 1st way - Use ( , )"
   ]
  },
  {
   "cell_type": "code",
   "execution_count": 28,
   "id": "904aefa4",
   "metadata": {},
   "outputs": [
    {
     "name": "stdout",
     "output_type": "stream",
     "text": [
      "My age is = 27\n"
     ]
    }
   ],
   "source": [
    "#1 way :- Use (,)\n",
    "#Comma : Will connect text inside code ' ' and variables:\n",
    "#Comma is going to provide 1 tab sapce for you:\n",
    "\n",
    "age = 27\n",
    "print('My age is =',age)"
   ]
  },
  {
   "cell_type": "code",
   "execution_count": 35,
   "id": "c3a9ba31",
   "metadata": {},
   "outputs": [
    {
     "name": "stdout",
     "output_type": "stream",
     "text": [
      "I am learning datascience from topmentor in online\n"
     ]
    }
   ],
   "source": [
    "Course = 'datascience'\n",
    "place = 'topmentor'\n",
    "access = 'online'\n",
    "\n",
    "# I want output = I am learning data science from topmentor in online\n",
    "print('I am learning',Course,'from',place,'in',access)"
   ]
  },
  {
   "cell_type": "code",
   "execution_count": 1,
   "id": "59185de4",
   "metadata": {},
   "outputs": [
    {
     "name": "stdout",
     "output_type": "stream",
     "text": [
      "My name is Kedar Gajanan Sapar and I am 27 years old.\n"
     ]
    }
   ],
   "source": [
    "one = 'name'\n",
    "two = 'Gajanan Sapar'\n",
    "three = 27\n",
    "\n",
    "# I want output = My name is Kedar Gajana Sapar and I am 27 years old.\n",
    "print('My',one,'is Kedar',two,'and I am',three,'years old.')"
   ]
  },
  {
   "cell_type": "code",
   "execution_count": 3,
   "id": "7000cb6e",
   "metadata": {},
   "outputs": [
    {
     "name": "stdout",
     "output_type": "stream",
     "text": [
      "The Auroius is an India brand aim at providing\n"
     ]
    }
   ],
   "source": [
    "a = 'Auroius'\n",
    "b = 'India'\n",
    "c = 'aim'\n",
    "d ='providing'\n",
    "\n",
    "# The Aurous is an India brand aim at providing\n",
    "print('The',a,'is an',b,'brand',c,'at',d)"
   ]
  },
  {
   "cell_type": "markdown",
   "id": "100c1599",
   "metadata": {},
   "source": [
    "#### 2nd way - Use + :- Using Plus we can add text inside the ' ' with vvaribles but variable should be string"
   ]
  },
  {
   "cell_type": "code",
   "execution_count": 14,
   "id": "5f3bc12e",
   "metadata": {},
   "outputs": [
    {
     "name": "stdout",
     "output_type": "stream",
     "text": [
      "my age isTwenty 7\n"
     ]
    }
   ],
   "source": [
    "# example - Variable should be string ...otherwise code will not run\n",
    "\n",
    "aga = 27\n",
    "print('my age is'+age)"
   ]
  },
  {
   "cell_type": "markdown",
   "id": "bfe4f33e",
   "metadata": {},
   "source": [
    "## data_type conversion"
   ]
  },
  {
   "cell_type": "code",
   "execution_count": 23,
   "id": "25525ccd",
   "metadata": {},
   "outputs": [
    {
     "name": "stdout",
     "output_type": "stream",
     "text": [
      "integer value = 12\n",
      "integer value = 12.0\n"
     ]
    }
   ],
   "source": [
    "# we can convert the variable type\n",
    "#Conver int to float\n",
    "# example\n",
    "a = 12\n",
    "print('integer value =',a)\n",
    "b = float(a)   #Value 12 converting to float and saving in variable bb known b will be 12.0\n",
    "print('integer value =',b)"
   ]
  },
  {
   "cell_type": "code",
   "execution_count": 29,
   "id": "cbf5bccf",
   "metadata": {},
   "outputs": [
    {
     "name": "stdout",
     "output_type": "stream",
     "text": [
      "23.0\n"
     ]
    }
   ],
   "source": [
    "a = 23\n",
    "b = float(a)\n",
    "print(b)"
   ]
  },
  {
   "cell_type": "code",
   "execution_count": 34,
   "id": "6a8a2064",
   "metadata": {},
   "outputs": [
    {
     "name": "stdout",
     "output_type": "stream",
     "text": [
      "23\n"
     ]
    }
   ],
   "source": [
    "#Convert float to int\n",
    "a = 23.0\n",
    "b = int(a) # value converted int to float\n",
    "print(b)"
   ]
  },
  {
   "cell_type": "code",
   "execution_count": 36,
   "id": "cfa22334",
   "metadata": {},
   "outputs": [
    {
     "name": "stdout",
     "output_type": "stream",
     "text": [
      "50\n"
     ]
    }
   ],
   "source": [
    "a = 50.89\n",
    "b = int(a)\n",
    "print(b)"
   ]
  },
  {
   "cell_type": "code",
   "execution_count": 43,
   "id": "ef2ef872",
   "metadata": {},
   "outputs": [
    {
     "name": "stdout",
     "output_type": "stream",
     "text": [
      "34\n",
      "<class 'str'>\n",
      "34\n",
      "<class 'int'>\n",
      "34.0\n",
      "<class 'float'>\n"
     ]
    }
   ],
   "source": [
    "# Convert int & float to str\n",
    "\n",
    "a = 34\n",
    "b = str(a)\n",
    "print(b)\n",
    "print(type(b))\n",
    "c = int(b)\n",
    "print(c)\n",
    "print(type(c))\n",
    "d = float(c)\n",
    "print(d)\n",
    "print(type(d))"
   ]
  },
  {
   "cell_type": "code",
   "execution_count": 50,
   "id": "766472e7",
   "metadata": {},
   "outputs": [
    {
     "name": "stdout",
     "output_type": "stream",
     "text": [
      "<class 'str'>\n",
      "43\n",
      "<class 'int'>\n",
      "43\n"
     ]
    }
   ],
   "source": [
    "# Convert str to int & float\n",
    "# string can be converted to int when there is only no, not text\n",
    "\n",
    "a = '43'\n",
    "print(type(a))\n",
    "print(a)\n",
    "b = int(a)\n",
    "print(type(b))\n",
    "print(b)"
   ]
  },
  {
   "cell_type": "code",
   "execution_count": 51,
   "id": "7cee9dc9",
   "metadata": {},
   "outputs": [
    {
     "name": "stdout",
     "output_type": "stream",
     "text": [
      "<class 'str'>\n"
     ]
    },
    {
     "ename": "ValueError",
     "evalue": "invalid literal for int() with base 10: 'kedar'",
     "output_type": "error",
     "traceback": [
      "\u001b[1;31m---------------------------------------------------------------------------\u001b[0m",
      "\u001b[1;31mValueError\u001b[0m                                Traceback (most recent call last)",
      "Cell \u001b[1;32mIn[51], line 4\u001b[0m\n\u001b[0;32m      2\u001b[0m a \u001b[38;5;241m=\u001b[39m \u001b[38;5;124m'\u001b[39m\u001b[38;5;124mkedar\u001b[39m\u001b[38;5;124m'\u001b[39m\n\u001b[0;32m      3\u001b[0m \u001b[38;5;28mprint\u001b[39m(\u001b[38;5;28mtype\u001b[39m(a))\n\u001b[1;32m----> 4\u001b[0m b \u001b[38;5;241m=\u001b[39m \u001b[38;5;28;43mint\u001b[39;49m\u001b[43m(\u001b[49m\u001b[43ma\u001b[49m\u001b[43m)\u001b[49m\n\u001b[0;32m      5\u001b[0m \u001b[38;5;28mprint\u001b[39m(b)\n",
      "\u001b[1;31mValueError\u001b[0m: invalid literal for int() with base 10: 'kedar'"
     ]
    }
   ],
   "source": [
    "# Example if str in text \n",
    "a = 'kedar'\n",
    "print(type(a))\n",
    "b = int(a)\n",
    "print(b)"
   ]
  },
  {
   "cell_type": "code",
   "execution_count": 63,
   "id": "c7d15a68",
   "metadata": {},
   "outputs": [
    {
     "name": "stdout",
     "output_type": "stream",
     "text": [
      "<class 'float'>\n"
     ]
    }
   ],
   "source": [
    "a = 20.9\n",
    "print(type(a))"
   ]
  },
  {
   "cell_type": "code",
   "execution_count": 69,
   "id": "995cbd13",
   "metadata": {},
   "outputs": [
    {
     "name": "stdout",
     "output_type": "stream",
     "text": [
      "my age is 26\n"
     ]
    }
   ],
   "source": [
    "a = 26\n",
    "print('my age is '+str(b))"
   ]
  },
  {
   "cell_type": "code",
   "execution_count": 78,
   "id": "7ab5b453",
   "metadata": {},
   "outputs": [
    {
     "name": "stdout",
     "output_type": "stream",
     "text": [
      "I got 100.2 rs salary and learning a course in Udemy which charge 20 rs per day\n",
      "I got 100.2 rs salary and learning a course in Udemy which charge 20 rs per day\n"
     ]
    }
   ],
   "source": [
    "salary = 100.2\n",
    "spend = 20\n",
    "course = 'Udemy'\n",
    "\n",
    "#I got 100.2 rs salary and learning a course in Udemy which charges 20 rs per day. (Using + operators)\n",
    "print('I got '+str(salary)+' '+'rs salary and learning a course in '+course\n",
    "      +' '+'which charge '+str(spend)+' '+'rs per day')\n",
    "\n",
    "#I got 100.2 rs salary and learning a course in Udemy which charges 20 rs per day. (Using , operators)\n",
    "print ('I got',salary,'rs salary and learning a course in',course,'which charge',spend,'rs per day')"
   ]
  },
  {
   "cell_type": "markdown",
   "id": "602cf8fd",
   "metadata": {},
   "source": [
    "#### 3rd way - % [not to use because consumes lot of space in memory]"
   ]
  },
  {
   "cell_type": "code",
   "execution_count": 89,
   "id": "5e125ef7",
   "metadata": {},
   "outputs": [
    {
     "name": "stdout",
     "output_type": "stream",
     "text": [
      "My name is Kedar and my  age is 27 and also I like 34.900000 no\n"
     ]
    }
   ],
   "source": [
    "# int = %d\n",
    "# float = %f\n",
    "# str = %s\n",
    "\n",
    "age = 27\n",
    "b = 34.90\n",
    "c = 'Kedar'\n",
    "\n",
    "#My name is Kedar and my age is 27 and also I like 34.90 no\n",
    "\n",
    "print('My name is %s and my  age is %d and also I like %f no'%(c,age,b))"
   ]
  },
  {
   "cell_type": "markdown",
   "id": "c8ae78d5",
   "metadata": {},
   "source": [
    "#### 4th way - Use f' ' --> formatting technique [very important] use in real time "
   ]
  },
  {
   "cell_type": "code",
   "execution_count": 91,
   "id": "5605e98d",
   "metadata": {},
   "outputs": [
    {
     "name": "stdout",
     "output_type": "stream",
     "text": [
      "My age is 27\n"
     ]
    }
   ],
   "source": [
    "age = 27\n",
    "print(f'My age is {age}')"
   ]
  },
  {
   "cell_type": "code",
   "execution_count": 93,
   "id": "fa0a873e",
   "metadata": {},
   "outputs": [
    {
     "name": "stdout",
     "output_type": "stream",
     "text": [
      "My age is 27 and I like mango\n"
     ]
    }
   ],
   "source": [
    "# My age is 27 and I like mange\n",
    "age = 27\n",
    "b = 'mango'\n",
    "\n",
    "print(f'My age is {age} and I like {b}')"
   ]
  },
  {
   "cell_type": "code",
   "execution_count": 1,
   "id": "bf6bf824",
   "metadata": {},
   "outputs": [
    {
     "name": "stdout",
     "output_type": "stream",
     "text": [
      "I am learning a Datascience with 10 rs and spend 34.2 rs\n"
     ]
    }
   ],
   "source": [
    "Course = 'Datascience'\n",
    "cost = 10\n",
    "spend = 34.2\n",
    "\n",
    "#I am learning a datascience with 10 rs and spend 34.2 rs\n",
    "\n",
    "print(f'I am learning a {Course} with {cost} rs and spend {spend} rs')"
   ]
  },
  {
   "cell_type": "markdown",
   "id": "4d577226",
   "metadata": {},
   "source": [
    "### Operators"
   ]
  },
  {
   "cell_type": "code",
   "execution_count": 2,
   "id": "dda305c6",
   "metadata": {},
   "outputs": [],
   "source": [
    "#   +,-,*,/,//,%,pow,=,==,!=,<,>,<=,>=\n",
    "#this are the types of operators "
   ]
  },
  {
   "cell_type": "code",
   "execution_count": 6,
   "id": "38d6957a",
   "metadata": {},
   "outputs": [
    {
     "data": {
      "text/plain": [
       "70"
      ]
     },
     "execution_count": 6,
     "metadata": {},
     "output_type": "execute_result"
    }
   ],
   "source": [
    "#  + operators\n",
    "30+40"
   ]
  },
  {
   "cell_type": "code",
   "execution_count": 8,
   "id": "8d7100a4",
   "metadata": {},
   "outputs": [
    {
     "name": "stdout",
     "output_type": "stream",
     "text": [
      "120\n"
     ]
    }
   ],
   "source": [
    "a = 50\n",
    "b = 60\n",
    "c = 10\n",
    "print (a + b + c)"
   ]
  },
  {
   "cell_type": "code",
   "execution_count": 10,
   "id": "67bd82b6",
   "metadata": {},
   "outputs": [
    {
     "data": {
      "text/plain": [
       "30"
      ]
     },
     "execution_count": 10,
     "metadata": {},
     "output_type": "execute_result"
    }
   ],
   "source": [
    "# - operators \n",
    "\n",
    "50-20"
   ]
  },
  {
   "cell_type": "code",
   "execution_count": 12,
   "id": "4df5fcff",
   "metadata": {},
   "outputs": [
    {
     "name": "stdout",
     "output_type": "stream",
     "text": [
      "20\n"
     ]
    }
   ],
   "source": [
    "a = 60\n",
    "b = 40\n",
    "print(a - b)"
   ]
  },
  {
   "cell_type": "code",
   "execution_count": 17,
   "id": "ccda4a2f",
   "metadata": {},
   "outputs": [
    {
     "name": "stdout",
     "output_type": "stream",
     "text": [
      "80\n"
     ]
    }
   ],
   "source": [
    "# * operators\n",
    "a = 20\n",
    "b = 4\n",
    "print(a * b)"
   ]
  },
  {
   "cell_type": "code",
   "execution_count": 19,
   "id": "0ab91899",
   "metadata": {},
   "outputs": [
    {
     "name": "stdout",
     "output_type": "stream",
     "text": [
      "10.0\n"
     ]
    }
   ],
   "source": [
    "# / operators\n",
    "a = 20\n",
    "b = 2\n",
    "print(a / b)"
   ]
  },
  {
   "cell_type": "code",
   "execution_count": 23,
   "id": "1b26e187",
   "metadata": {},
   "outputs": [
    {
     "name": "stdout",
     "output_type": "stream",
     "text": [
      "13\n"
     ]
    }
   ],
   "source": [
    "#// floor dividion means remove the decimals\n",
    "a = 55\n",
    "b = 4\n",
    "print(a//b)"
   ]
  },
  {
   "cell_type": "code",
   "execution_count": 25,
   "id": "09b44f12",
   "metadata": {},
   "outputs": [
    {
     "name": "stdout",
     "output_type": "stream",
     "text": [
      "3\n"
     ]
    }
   ],
   "source": [
    "# % -> nod function take reminder as output (reminder means after dividing the factor what are remaining)\n",
    "#Very much important \n",
    "\n",
    "a = 55\n",
    "b = 4\n",
    "print(a%b)"
   ]
  },
  {
   "cell_type": "code",
   "execution_count": 30,
   "id": "3fe079bd",
   "metadata": {},
   "outputs": [
    {
     "data": {
      "text/plain": [
       "9"
      ]
     },
     "execution_count": 30,
     "metadata": {},
     "output_type": "execute_result"
    }
   ],
   "source": [
    "# pow -> pow means power function\n",
    "# power funcation is nothing but 3*3=9\n",
    "#the second no will be power of starting no\n",
    "\n",
    "pow(3,2)"
   ]
  },
  {
   "cell_type": "code",
   "execution_count": 32,
   "id": "1c2508ba",
   "metadata": {},
   "outputs": [
    {
     "data": {
      "text/plain": [
       "128"
      ]
     },
     "execution_count": 32,
     "metadata": {},
     "output_type": "execute_result"
    }
   ],
   "source": [
    "# how -> 2*2*2*2*2*2*2=128\n",
    "\n",
    "pow(2,7)"
   ]
  },
  {
   "cell_type": "code",
   "execution_count": 37,
   "id": "796dd99a",
   "metadata": {},
   "outputs": [
    {
     "ename": "TypeError",
     "evalue": "pow() missing required argument 'base' (pos 1)",
     "output_type": "error",
     "traceback": [
      "\u001b[1;31m---------------------------------------------------------------------------\u001b[0m",
      "\u001b[1;31mTypeError\u001b[0m                                 Traceback (most recent call last)",
      "Cell \u001b[1;32mIn[37], line 4\u001b[0m\n\u001b[0;32m      1\u001b[0m \u001b[38;5;66;03m# shfit + tab = intelligence\u001b[39;00m\n\u001b[0;32m      2\u001b[0m \u001b[38;5;66;03m# tab -> for complete understanding about method\u001b[39;00m\n\u001b[1;32m----> 4\u001b[0m \u001b[38;5;28;43mpow\u001b[39;49m\u001b[43m(\u001b[49m\u001b[43m)\u001b[49m\n",
      "\u001b[1;31mTypeError\u001b[0m: pow() missing required argument 'base' (pos 1)"
     ]
    }
   ],
   "source": [
    "# shfit + tab = intelligence\n",
    "# tab -> for complete understanding about method\n",
    "\n",
    "pow()"
   ]
  },
  {
   "cell_type": "code",
   "execution_count": 39,
   "id": "2be80f0e",
   "metadata": {},
   "outputs": [
    {
     "data": {
      "text/plain": [
       "2"
      ]
     },
     "execution_count": 39,
     "metadata": {},
     "output_type": "execute_result"
    }
   ],
   "source": [
    "pow(3,3,5)  # how ans is 2\n",
    "\n",
    "#in pow fun first two variable (3,3) run as pow -> 3*3*3 = 27 \n",
    "#And last one 5 is run as mod, 27%5 means 27 divided by 5 and the reminder will be the ans  "
   ]
  },
  {
   "cell_type": "code",
   "execution_count": 41,
   "id": "699ac516",
   "metadata": {},
   "outputs": [
    {
     "data": {
      "text/plain": [
       "7"
      ]
     },
     "execution_count": 41,
     "metadata": {},
     "output_type": "execute_result"
    }
   ],
   "source": [
    "pow(2,4,9)"
   ]
  },
  {
   "cell_type": "code",
   "execution_count": 43,
   "id": "959d7675",
   "metadata": {},
   "outputs": [
    {
     "name": "stdout",
     "output_type": "stream",
     "text": [
      "10\n"
     ]
    }
   ],
   "source": [
    "# = operator\n",
    "a = 10\n",
    "b = a\n",
    "print(b)"
   ]
  },
  {
   "cell_type": "code",
   "execution_count": 45,
   "id": "f358a87b",
   "metadata": {},
   "outputs": [
    {
     "data": {
      "text/plain": [
       "True"
      ]
     },
     "execution_count": 45,
     "metadata": {},
     "output_type": "execute_result"
    }
   ],
   "source": [
    "# == -> will return boolean outcome (in excel we use true false formula to comparing tow rows)\\\n",
    "\n",
    "10 == 10"
   ]
  },
  {
   "cell_type": "code",
   "execution_count": 47,
   "id": "60a35fa4",
   "metadata": {},
   "outputs": [
    {
     "data": {
      "text/plain": [
       "False"
      ]
     },
     "execution_count": 47,
     "metadata": {},
     "output_type": "execute_result"
    }
   ],
   "source": [
    "8 == 3"
   ]
  },
  {
   "cell_type": "code",
   "execution_count": 53,
   "id": "e7291ed7",
   "metadata": {},
   "outputs": [
    {
     "data": {
      "text/plain": [
       "True"
      ]
     },
     "execution_count": 53,
     "metadata": {},
     "output_type": "execute_result"
    }
   ],
   "source": [
    "# != -> returns boolean valuse is not equal to (same as above but the valuse come true is the amount is not same)\n",
    "10 != 5"
   ]
  },
  {
   "cell_type": "code",
   "execution_count": 55,
   "id": "964fce07",
   "metadata": {},
   "outputs": [
    {
     "data": {
      "text/plain": [
       "False"
      ]
     },
     "execution_count": 55,
     "metadata": {},
     "output_type": "execute_result"
    }
   ],
   "source": [
    "5 != 5"
   ]
  },
  {
   "cell_type": "code",
   "execution_count": 58,
   "id": "82ce4380",
   "metadata": {},
   "outputs": [
    {
     "data": {
      "text/plain": [
       "False"
      ]
     },
     "execution_count": 58,
     "metadata": {},
     "output_type": "execute_result"
    }
   ],
   "source": [
    "10 > 11\n"
   ]
  },
  {
   "cell_type": "code",
   "execution_count": 59,
   "id": "7971e536",
   "metadata": {},
   "outputs": [
    {
     "data": {
      "text/plain": [
       "True"
      ]
     },
     "execution_count": 59,
     "metadata": {},
     "output_type": "execute_result"
    }
   ],
   "source": [
    "10<11"
   ]
  },
  {
   "cell_type": "code",
   "execution_count": 65,
   "id": "24de476e",
   "metadata": {},
   "outputs": [
    {
     "data": {
      "text/plain": [
       "True"
      ]
     },
     "execution_count": 65,
     "metadata": {},
     "output_type": "execute_result"
    }
   ],
   "source": [
    "# >= and <=\n",
    "10 >= 9"
   ]
  },
  {
   "cell_type": "code",
   "execution_count": 67,
   "id": "b473be62",
   "metadata": {},
   "outputs": [
    {
     "data": {
      "text/plain": [
       "False"
      ]
     },
     "execution_count": 67,
     "metadata": {},
     "output_type": "execute_result"
    }
   ],
   "source": [
    "9>=10"
   ]
  },
  {
   "cell_type": "code",
   "execution_count": 64,
   "id": "7228fd5f",
   "metadata": {},
   "outputs": [
    {
     "data": {
      "text/plain": [
       "False"
      ]
     },
     "execution_count": 64,
     "metadata": {},
     "output_type": "execute_result"
    }
   ],
   "source": [
    "11 <= 10"
   ]
  }
 ],
 "metadata": {
  "kernelspec": {
   "display_name": "Python 3 (ipykernel)",
   "language": "python",
   "name": "python3"
  },
  "language_info": {
   "codemirror_mode": {
    "name": "ipython",
    "version": 3
   },
   "file_extension": ".py",
   "mimetype": "text/x-python",
   "name": "python",
   "nbconvert_exporter": "python",
   "pygments_lexer": "ipython3",
   "version": "3.10.9"
  }
 },
 "nbformat": 4,
 "nbformat_minor": 5
}
