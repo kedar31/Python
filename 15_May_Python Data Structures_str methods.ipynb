{
 "cells": [
  {
   "cell_type": "markdown",
   "id": "d6ee4410",
   "metadata": {},
   "source": [
    "## Python data structures"
   ]
  },
  {
   "cell_type": "code",
   "execution_count": 1,
   "id": "20b44f8c",
   "metadata": {},
   "outputs": [],
   "source": [
    "# python data structures -> 1. String\n",
    "#                           2. List\n",
    "#                           3. Tuple\n",
    "#                           4. Set's\n",
    "#                           5. Dictionary"
   ]
  },
  {
   "cell_type": "code",
   "execution_count": null,
   "id": "8e435da1",
   "metadata": {},
   "outputs": [],
   "source": [
    "# Difference between Mutable and Immutable\n",
    "#\n",
    "#               Mutable                                  Immutable\n",
    "# * Mutable means changable behaviour           * Immutable means cannot changable behaviour"
   ]
  },
  {
   "cell_type": "markdown",
   "id": "49aaf6f0",
   "metadata": {},
   "source": [
    "#### 1. string"
   ]
  },
  {
   "cell_type": "code",
   "execution_count": 6,
   "id": "d8a6bb1b",
   "metadata": {},
   "outputs": [
    {
     "name": "stdout",
     "output_type": "stream",
     "text": [
      "<class 'int'>\n",
      "12\n",
      "<class 'str'>\n"
     ]
    }
   ],
   "source": [
    "# string -> \n",
    "\n",
    "# string is Immutable\n",
    "#string cannot change his behaviour\n",
    "\n",
    "# Ex.->\n",
    "\n",
    "a = 12\n",
    "print(type(a))\n",
    "b = str(a)\n",
    "print(b)\n",
    "print(type(b))\n",
    "\n",
    "# In this example int can change in str it means int is mutable\n"
   ]
  },
  {
   "cell_type": "code",
   "execution_count": 8,
   "id": "9af7c5c5",
   "metadata": {},
   "outputs": [
    {
     "name": "stdout",
     "output_type": "stream",
     "text": [
      "<class 'str'>\n"
     ]
    },
    {
     "ename": "ValueError",
     "evalue": "invalid literal for int() with base 10: 'datascience'",
     "output_type": "error",
     "traceback": [
      "\u001b[1;31m---------------------------------------------------------------------------\u001b[0m",
      "\u001b[1;31mValueError\u001b[0m                                Traceback (most recent call last)",
      "Cell \u001b[1;32mIn[8], line 3\u001b[0m\n\u001b[0;32m      1\u001b[0m a \u001b[38;5;241m=\u001b[39m \u001b[38;5;124m'\u001b[39m\u001b[38;5;124mdatascience\u001b[39m\u001b[38;5;124m'\u001b[39m\n\u001b[0;32m      2\u001b[0m \u001b[38;5;28mprint\u001b[39m(\u001b[38;5;28mtype\u001b[39m(a))\n\u001b[1;32m----> 3\u001b[0m b \u001b[38;5;241m=\u001b[39m \u001b[38;5;28;43mint\u001b[39;49m\u001b[43m(\u001b[49m\u001b[43ma\u001b[49m\u001b[43m)\u001b[49m\n\u001b[0;32m      4\u001b[0m \u001b[38;5;28mprint\u001b[39m(b)\n",
      "\u001b[1;31mValueError\u001b[0m: invalid literal for int() with base 10: 'datascience'"
     ]
    }
   ],
   "source": [
    "a = 'datascience'\n",
    "print(type(a))\n",
    "b = int(a)\n",
    "print(b)\n",
    "\n",
    "# In this example str cannot change his behaviour str to int or float. It means str is Immutable "
   ]
  },
  {
   "cell_type": "code",
   "execution_count": 10,
   "id": "d26957b0",
   "metadata": {},
   "outputs": [],
   "source": [
    "# programming language has surnames which means index.\n",
    "# surname is nothing but index\n",
    "# Index is starts from '0' in forward direction\n",
    "\n",
    "# Ex-> suppose we write a = datascience and we have to called out a particular letter in datascience then we have to use index.\n",
    "\n",
    "# d a t a s c i e n c e\n",
    "# 0 1 2 3 4 5 6 7 8 9 10 <------- this is called index no and each and every character have their own index no..in simple word each every character have their surname.\n"
   ]
  },
  {
   "cell_type": "code",
   "execution_count": 12,
   "id": "25f577a8",
   "metadata": {},
   "outputs": [],
   "source": [
    "# Call character (forward direction)\n",
    "\n",
    "a = 'datascience'"
   ]
  },
  {
   "cell_type": "code",
   "execution_count": 22,
   "id": "6afb9461",
   "metadata": {},
   "outputs": [
    {
     "name": "stdout",
     "output_type": "stream",
     "text": [
      "t\n",
      "i\n",
      "e\n",
      "n\n"
     ]
    }
   ],
   "source": [
    "print(a[2])\n",
    "print(a[6])\n",
    "print(a[10])\n",
    "print(a[-3]) # backward technique ....Please refer the 21 cell"
   ]
  },
  {
   "cell_type": "code",
   "execution_count": 20,
   "id": "e4c1c1b9",
   "metadata": {},
   "outputs": [
    {
     "name": "stdout",
     "output_type": "stream",
     "text": [
      "f\n"
     ]
    }
   ],
   "source": [
    "b = 'I am fine'\n",
    "print(b[5])"
   ]
  },
  {
   "cell_type": "code",
   "execution_count": 23,
   "id": "ef3f747e",
   "metadata": {},
   "outputs": [
    {
     "name": "stdout",
     "output_type": "stream",
     "text": [
      "h\n"
     ]
    }
   ],
   "source": [
    "#backward direction index (but dont use this method it is very critical)\n",
    "\n",
    "# p    y   t   h   o   n\n",
    "# -6  -5  -4  -3  -2  -1\n",
    "\n",
    "c = 'python'\n",
    "print(c[-3])"
   ]
  },
  {
   "cell_type": "markdown",
   "id": "5b6e7e3d",
   "metadata": {},
   "source": [
    "### Slicing operation on strings with index concepts:"
   ]
  },
  {
   "cell_type": "code",
   "execution_count": 24,
   "id": "1453a6ab",
   "metadata": {},
   "outputs": [],
   "source": [
    "#    What is Slicing operation ?\n",
    "#--> Slicing means travelling one character to another\n",
    "\n",
    "#Ex.->\n",
    "# a = 'python' \n",
    "# and I want the output 'tho'\n",
    "# then use formula\n",
    "#print(a[2:5]) then you will get 'tho'"
   ]
  },
  {
   "cell_type": "code",
   "execution_count": 29,
   "id": "b892f13f",
   "metadata": {},
   "outputs": [
    {
     "name": "stdout",
     "output_type": "stream",
     "text": [
      "thon\n"
     ]
    }
   ],
   "source": [
    "k = 'python'\n",
    "print(k[2:6])\n",
    "\n",
    "# why 2:6..why 6 is n \n",
    "# python follows (n-1) category "
   ]
  },
  {
   "cell_type": "code",
   "execution_count": 34,
   "id": "0b02851c",
   "metadata": {},
   "outputs": [
    {
     "name": "stdout",
     "output_type": "stream",
     "text": [
      "ta sc\n"
     ]
    }
   ],
   "source": [
    "# one more ex.\n",
    "z = 'data science'\n",
    "print(z[2:7])"
   ]
  },
  {
   "cell_type": "code",
   "execution_count": 47,
   "id": "14c7a8c2",
   "metadata": {},
   "outputs": [
    {
     "name": "stdout",
     "output_type": "stream",
     "text": [
      "a sci\n"
     ]
    }
   ],
   "source": [
    "h = 'data science'\n",
    "print(h[-9:-4])"
   ]
  },
  {
   "cell_type": "markdown",
   "id": "e5d18fc3",
   "metadata": {},
   "source": [
    "### slicing and Skipping concept"
   ]
  },
  {
   "cell_type": "code",
   "execution_count": 1,
   "id": "65052b4e",
   "metadata": {},
   "outputs": [
    {
     "name": "stdout",
     "output_type": "stream",
     "text": [
      "eran\n"
     ]
    }
   ],
   "source": [
    "a = 'kedar gajanan sapar'\n",
    "print(a[1:13:3])\n",
    "\n",
    "# k e d a r   g a j a  n  a  n     s  a  p  a  r\n",
    "# 0 1 2 3 4 5 6 7 8 9 10 11 12 13 14 15 16 17 18\n",
    "# eran "
   ]
  },
  {
   "cell_type": "code",
   "execution_count": 2,
   "id": "94fae580",
   "metadata": {},
   "outputs": [],
   "source": [
    "# Using slicing concept their are few fixed techniques:"
   ]
  },
  {
   "cell_type": "code",
   "execution_count": 4,
   "id": "b19d6ca5",
   "metadata": {},
   "outputs": [
    {
     "name": "stdout",
     "output_type": "stream",
     "text": [
      "Kedar\n"
     ]
    }
   ],
   "source": [
    "a = 'Kedar'\n",
    "print(a[:])  #--> : means return entire str as it is:"
   ]
  },
  {
   "cell_type": "code",
   "execution_count": 6,
   "id": "ee1c5b75",
   "metadata": {},
   "outputs": [
    {
     "name": "stdout",
     "output_type": "stream",
     "text": [
      "dar\n"
     ]
    }
   ],
   "source": [
    "a = 'Kedar'\n",
    "print(a[2:])  #--> means from 2nd index position to entire str"
   ]
  },
  {
   "cell_type": "code",
   "execution_count": 9,
   "id": "2ef22f1e",
   "metadata": {},
   "outputs": [
    {
     "name": "stdout",
     "output_type": "stream",
     "text": [
      "Rajinikant\n"
     ]
    }
   ],
   "source": [
    "a = 'Rajinikanth'\n",
    "print(a[:10])  #--> means there is destination but there is no starting point so its starts from zero"
   ]
  },
  {
   "cell_type": "code",
   "execution_count": 18,
   "id": "70cf3ff9",
   "metadata": {},
   "outputs": [
    {
     "name": "stdout",
     "output_type": "stream",
     "text": [
      "htnakinijaR\n"
     ]
    }
   ],
   "source": [
    "a = 'Rajinikanth'\n",
    "print(a[::-1])  #--> means from starting position to ending position everythin will be reverse\n",
    "\n",
    "#1st : -> starting\n",
    "#2nd : -> ending \n",
    "#-1 -> reverse"
   ]
  },
  {
   "cell_type": "code",
   "execution_count": 20,
   "id": "f5060e31",
   "metadata": {},
   "outputs": [
    {
     "name": "stdout",
     "output_type": "stream",
     "text": [
      "loot lufrewop yrev yrev si nohtyP\n"
     ]
    }
   ],
   "source": [
    "a = 'Python is very very powerful tool'\n",
    "print(a[::-1])"
   ]
  },
  {
   "cell_type": "markdown",
   "id": "9a18425b",
   "metadata": {},
   "source": [
    "### string concept and method:"
   ]
  },
  {
   "cell_type": "code",
   "execution_count": 21,
   "id": "fc1c67bf",
   "metadata": {},
   "outputs": [],
   "source": [
    "# note: Each and every data structure (str, list, tuple, set's, dictionary) has there own method "
   ]
  },
  {
   "cell_type": "code",
   "execution_count": 22,
   "id": "83af93bd",
   "metadata": {},
   "outputs": [],
   "source": [
    "# str is immutable : we cannot change memory space"
   ]
  },
  {
   "cell_type": "code",
   "execution_count": 27,
   "id": "54e25e5e",
   "metadata": {},
   "outputs": [
    {
     "name": "stdout",
     "output_type": "stream",
     "text": [
      "python java\n"
     ]
    }
   ],
   "source": [
    "mystring = 'python java'\n",
    "print(mystring)"
   ]
  },
  {
   "cell_type": "code",
   "execution_count": null,
   "id": "1849fed4",
   "metadata": {},
   "outputs": [],
   "source": [
    "# shift + enter to check complete info about python predefined methods:\n",
    "# Tab will show you about variables"
   ]
  },
  {
   "cell_type": "markdown",
   "id": "a3f5f71c",
   "metadata": {},
   "source": [
    "#### 1. Adding ---> is not possible"
   ]
  },
  {
   "cell_type": "code",
   "execution_count": 29,
   "id": "2497dde0",
   "metadata": {},
   "outputs": [
    {
     "ename": "TypeError",
     "evalue": "'str' object does not support item assignment",
     "output_type": "error",
     "traceback": [
      "\u001b[1;31m---------------------------------------------------------------------------\u001b[0m",
      "\u001b[1;31mTypeError\u001b[0m                                 Traceback (most recent call last)",
      "Cell \u001b[1;32mIn[29], line 3\u001b[0m\n\u001b[0;32m      1\u001b[0m \u001b[38;5;66;03m# I want to add a character : means I want to increase the memory space : is if possible\":\u001b[39;00m\n\u001b[1;32m----> 3\u001b[0m mystring[\u001b[38;5;241m11\u001b[39m] \u001b[38;5;241m=\u001b[39m \u001b[38;5;124m'\u001b[39m\u001b[38;5;124mM\u001b[39m\u001b[38;5;124m'\u001b[39m\n",
      "\u001b[1;31mTypeError\u001b[0m: 'str' object does not support item assignment"
     ]
    }
   ],
   "source": [
    "# I want to \"add\" a character : means I want to increase the memory space : is if possible\":\n",
    "\n",
    "mystring[11] = 'M'\n",
    "\n",
    "# adding a variable in str is not possible"
   ]
  },
  {
   "cell_type": "markdown",
   "id": "146bd958",
   "metadata": {},
   "source": [
    "#### 2. Inserting ---> is not possible"
   ]
  },
  {
   "cell_type": "code",
   "execution_count": 32,
   "id": "ef81cd8e",
   "metadata": {},
   "outputs": [
    {
     "ename": "TypeError",
     "evalue": "'str' object does not support item assignment",
     "output_type": "error",
     "traceback": [
      "\u001b[1;31m---------------------------------------------------------------------------\u001b[0m",
      "\u001b[1;31mTypeError\u001b[0m                                 Traceback (most recent call last)",
      "Cell \u001b[1;32mIn[32], line 4\u001b[0m\n\u001b[0;32m      1\u001b[0m \u001b[38;5;66;03m# I want to \"Inserting\" a character : is it possible\u001b[39;00m\n\u001b[0;32m      2\u001b[0m \u001b[38;5;66;03m#I want to 4 index no which is 'o' is replace with 'K'...is it possible------> No\u001b[39;00m\n\u001b[1;32m----> 4\u001b[0m mystring[\u001b[38;5;241m4\u001b[39m] \u001b[38;5;241m=\u001b[39m \u001b[38;5;124m'\u001b[39m\u001b[38;5;124mK\u001b[39m\u001b[38;5;124m'\u001b[39m\n",
      "\u001b[1;31mTypeError\u001b[0m: 'str' object does not support item assignment"
     ]
    }
   ],
   "source": [
    "# I want to \"Inserting\" a character : is it possible\n",
    "#I want to 4 index no which is 'o' is replace with 'K'...is it possible------> No\n",
    "\n",
    "mystring[4] = 'K'\n",
    "\n",
    "#Inserting index no is not possible"
   ]
  },
  {
   "cell_type": "markdown",
   "id": "2eb778a6",
   "metadata": {},
   "source": [
    "#### 3. Deleting ---> is not possible"
   ]
  },
  {
   "cell_type": "code",
   "execution_count": 34,
   "id": "1237f33a",
   "metadata": {},
   "outputs": [
    {
     "ename": "TypeError",
     "evalue": "'str' object doesn't support item deletion",
     "output_type": "error",
     "traceback": [
      "\u001b[1;31m---------------------------------------------------------------------------\u001b[0m",
      "\u001b[1;31mTypeError\u001b[0m                                 Traceback (most recent call last)",
      "Cell \u001b[1;32mIn[34], line 6\u001b[0m\n\u001b[0;32m      1\u001b[0m \u001b[38;5;66;03m# deleting is possible?\u001b[39;00m\n\u001b[0;32m      2\u001b[0m \u001b[38;5;66;03m# I want to delete 5th index no\u001b[39;00m\n\u001b[0;32m      3\u001b[0m \n\u001b[0;32m      4\u001b[0m \u001b[38;5;66;03m# for delete we use 'del'\u001b[39;00m\n\u001b[1;32m----> 6\u001b[0m \u001b[38;5;28;01mdel\u001b[39;00m mystring[\u001b[38;5;241m5\u001b[39m]\n",
      "\u001b[1;31mTypeError\u001b[0m: 'str' object doesn't support item deletion"
     ]
    }
   ],
   "source": [
    "# deleting is possible?\n",
    "# I want to delete 5th index no\n",
    "\n",
    "# for delete we use 'del'\n",
    "\n",
    "del mystring[5]"
   ]
  },
  {
   "cell_type": "markdown",
   "id": "fab9a25a",
   "metadata": {},
   "source": [
    "#### 4. Replacing ---> is possible but within the memory  space"
   ]
  },
  {
   "cell_type": "code",
   "execution_count": 38,
   "id": "0eb6961c",
   "metadata": {},
   "outputs": [
    {
     "data": {
      "text/plain": [
       "'pytkon java'"
      ]
     },
     "execution_count": 38,
     "metadata": {},
     "output_type": "execute_result"
    }
   ],
   "source": [
    "# we can replace character in str within memory space:\n",
    "# using python str replace method:\n",
    "\n",
    "mystring.replace('h','k')  # we are changing but not saving in memory"
   ]
  },
  {
   "cell_type": "code",
   "execution_count": 39,
   "id": "9dfa140b",
   "metadata": {},
   "outputs": [
    {
     "name": "stdout",
     "output_type": "stream",
     "text": [
      "python java\n"
     ]
    }
   ],
   "source": [
    "print(mystring)"
   ]
  },
  {
   "cell_type": "code",
   "execution_count": 48,
   "id": "c3e43128",
   "metadata": {},
   "outputs": [
    {
     "name": "stdout",
     "output_type": "stream",
     "text": [
      "python\n"
     ]
    }
   ],
   "source": [
    "a = 'python'\n",
    "print(a)"
   ]
  },
  {
   "cell_type": "code",
   "execution_count": 52,
   "id": "5dd80bb2",
   "metadata": {},
   "outputs": [
    {
     "name": "stdout",
     "output_type": "stream",
     "text": [
      "Mython\n"
     ]
    }
   ],
   "source": [
    "a = a.replace('p','M')\n",
    "print(a)"
   ]
  },
  {
   "cell_type": "code",
   "execution_count": 55,
   "id": "e6c89e07",
   "metadata": {},
   "outputs": [
    {
     "name": "stdout",
     "output_type": "stream",
     "text": [
      "who are you\n"
     ]
    }
   ],
   "source": [
    "kedar = 'what are you'\n",
    "kedar = kedar.replace('what','who')\n",
    "print(kedar)"
   ]
  },
  {
   "cell_type": "code",
   "execution_count": 60,
   "id": "a76e0136",
   "metadata": {},
   "outputs": [
    {
     "name": "stdout",
     "output_type": "stream",
     "text": [
      "Murdabaad Country\n"
     ]
    }
   ],
   "source": [
    "Pakistan = 'Murdabaad Country'\n",
    "print(Pakistan)"
   ]
  },
  {
   "cell_type": "code",
   "execution_count": 62,
   "id": "42200420",
   "metadata": {},
   "outputs": [
    {
     "name": "stdout",
     "output_type": "stream",
     "text": [
      "Chapri Country\n"
     ]
    }
   ],
   "source": [
    "Pakistan = Pakistan.replace('Murdabaad','Chapri')\n",
    "print(Pakistan)"
   ]
  },
  {
   "cell_type": "code",
   "execution_count": 67,
   "id": "fc324b20",
   "metadata": {},
   "outputs": [
    {
     "name": "stdout",
     "output_type": "stream",
     "text": [
      "Good Girl\n"
     ]
    }
   ],
   "source": [
    "Ram = 'Good boy'\n",
    "Ram = Ram.replace('boy','Girl')\n",
    "print(Ram)"
   ]
  },
  {
   "cell_type": "markdown",
   "id": "7b6280f7",
   "metadata": {},
   "source": [
    "### String method"
   ]
  },
  {
   "cell_type": "markdown",
   "id": "b136dc84",
   "metadata": {},
   "source": [
    "##### 1. method : Replace"
   ]
  },
  {
   "cell_type": "code",
   "execution_count": 73,
   "id": "8b160e54",
   "metadata": {},
   "outputs": [
    {
     "data": {
      "text/plain": [
       "'I $m working in Tr$nsUnion $s $ MIS $n$lyst'"
      ]
     },
     "execution_count": 73,
     "metadata": {},
     "output_type": "execute_result"
    }
   ],
   "source": [
    "a = 'I am working in TransUnion as a MIS analyst'   #6 a's in sentense\n",
    "a.replace('a','$')"
   ]
  },
  {
   "cell_type": "code",
   "execution_count": 79,
   "id": "eeae17e8",
   "metadata": {},
   "outputs": [
    {
     "data": {
      "text/plain": [
       "'I $m working in Tr$nsUnion as a MIS analyst'"
      ]
     },
     "execution_count": 79,
     "metadata": {},
     "output_type": "execute_result"
    }
   ],
   "source": [
    "a.replace('a','$',2)"
   ]
  },
  {
   "cell_type": "markdown",
   "id": "fe6c9e9c",
   "metadata": {},
   "source": [
    "##### 2. method : Capitalize (starting letter will be capitalize)"
   ]
  },
  {
   "cell_type": "code",
   "execution_count": 88,
   "id": "dccaa821",
   "metadata": {},
   "outputs": [
    {
     "data": {
      "text/plain": [
       "'Datascience is future'"
      ]
     },
     "execution_count": 88,
     "metadata": {},
     "output_type": "execute_result"
    }
   ],
   "source": [
    "# means captialize the starting character of the sentense\n",
    "\n",
    "a = 'datascience is future'\n",
    "a.capitalize()"
   ]
  },
  {
   "cell_type": "markdown",
   "id": "bcdc8f2f",
   "metadata": {},
   "source": [
    "##### 3. method : Count (it is going to count how many time a particular no apperences)"
   ]
  },
  {
   "cell_type": "code",
   "execution_count": 1,
   "id": "77bdffce",
   "metadata": {},
   "outputs": [
    {
     "data": {
      "text/plain": [
       "5"
      ]
     },
     "execution_count": 1,
     "metadata": {},
     "output_type": "execute_result"
    }
   ],
   "source": [
    "a = 'india is my country and all Indians are my brother and sisters'\n",
    "a.count('i')"
   ]
  },
  {
   "cell_type": "markdown",
   "id": "9c5b3b86",
   "metadata": {},
   "source": [
    "##### 4. method : Startswith and endswith (will give us boolean value : True or False) "
   ]
  },
  {
   "cell_type": "code",
   "execution_count": 5,
   "id": "9f0c6104",
   "metadata": {},
   "outputs": [
    {
     "data": {
      "text/plain": [
       "False"
      ]
     },
     "execution_count": 5,
     "metadata": {},
     "output_type": "execute_result"
    }
   ],
   "source": [
    "# use for check a particular character is true or false\n",
    "\n",
    "a = 'India is my country'\n",
    "a.startswith('i')"
   ]
  },
  {
   "cell_type": "code",
   "execution_count": 7,
   "id": "3117208b",
   "metadata": {},
   "outputs": [
    {
     "data": {
      "text/plain": [
       "True"
      ]
     },
     "execution_count": 7,
     "metadata": {},
     "output_type": "execute_result"
    }
   ],
   "source": [
    "a = 'India is my country'\n",
    "a.endswith('country')"
   ]
  },
  {
   "cell_type": "markdown",
   "id": "80684ef2",
   "metadata": {},
   "source": [
    "##### 5. method : index (will tell us the index value of a character)"
   ]
  },
  {
   "cell_type": "code",
   "execution_count": 12,
   "id": "613dc680",
   "metadata": {},
   "outputs": [
    {
     "data": {
      "text/plain": [
       "7"
      ]
     },
     "execution_count": 12,
     "metadata": {},
     "output_type": "execute_result"
    }
   ],
   "source": [
    "a = 'India is my country and all Indians are my brothers & sisters'\n",
    "a.index('s')"
   ]
  },
  {
   "cell_type": "code",
   "execution_count": 19,
   "id": "bcc9635d",
   "metadata": {},
   "outputs": [
    {
     "data": {
      "text/plain": [
       "34"
      ]
     },
     "execution_count": 19,
     "metadata": {},
     "output_type": "execute_result"
    }
   ],
   "source": [
    "a.index('s',10,41)"
   ]
  },
  {
   "cell_type": "markdown",
   "id": "8bbe85a7",
   "metadata": {},
   "source": [
    "##### 6. method :  Lower and Upper"
   ]
  },
  {
   "cell_type": "code",
   "execution_count": 21,
   "id": "e48d05ae",
   "metadata": {},
   "outputs": [
    {
     "data": {
      "text/plain": [
       "'my name kedar gajanan sapar'"
      ]
     },
     "execution_count": 21,
     "metadata": {},
     "output_type": "execute_result"
    }
   ],
   "source": [
    "# Lower and upper\n",
    "# lower means all capital letter convert capital to small\n",
    "# Upper means all small letter convert small to  capital\n",
    "\n",
    "a='My name Kedar Gajanan Sapar'\n",
    "a.lower()"
   ]
  },
  {
   "cell_type": "code",
   "execution_count": 25,
   "id": "eae52fdd",
   "metadata": {},
   "outputs": [
    {
     "data": {
      "text/plain": [
       "'MY NAME KEDAR GAJANAN SAPAR'"
      ]
     },
     "execution_count": 25,
     "metadata": {},
     "output_type": "execute_result"
    }
   ],
   "source": [
    "a.upper()"
   ]
  },
  {
   "cell_type": "markdown",
   "id": "2e645c58",
   "metadata": {},
   "source": [
    "##### 7. method:  isupper & islower"
   ]
  },
  {
   "cell_type": "code",
   "execution_count": 35,
   "id": "e66e3b8c",
   "metadata": {},
   "outputs": [
    {
     "data": {
      "text/plain": [
       "False"
      ]
     },
     "execution_count": 35,
     "metadata": {},
     "output_type": "execute_result"
    }
   ],
   "source": [
    "# isupper and islower\n",
    "# they return bollean values if they satisfy\n",
    "# checking wether each char is lower or upper letter or not\n",
    "\n",
    "a = 'My name is Kedar Gajanan Sapar'\n",
    "a.islower()"
   ]
  },
  {
   "cell_type": "code",
   "execution_count": 36,
   "id": "7cdb2e66",
   "metadata": {},
   "outputs": [
    {
     "data": {
      "text/plain": [
       "False"
      ]
     },
     "execution_count": 36,
     "metadata": {},
     "output_type": "execute_result"
    }
   ],
   "source": [
    "a.isupper()"
   ]
  },
  {
   "cell_type": "markdown",
   "id": "8748bd2d",
   "metadata": {},
   "source": [
    "##### 8. method : isalpha, isdecimal, isdigit, isalphanum, isnumerical"
   ]
  },
  {
   "cell_type": "code",
   "execution_count": 42,
   "id": "34cb9744",
   "metadata": {},
   "outputs": [
    {
     "data": {
      "text/plain": [
       "True"
      ]
     },
     "execution_count": 42,
     "metadata": {},
     "output_type": "execute_result"
    }
   ],
   "source": [
    "# isalphanum\n",
    "#alnum = alphanuerical [numbers and character]\n",
    "\n",
    "k='kedar123'\n",
    "k.isalnum()"
   ]
  },
  {
   "cell_type": "code",
   "execution_count": 49,
   "id": "212f6f24",
   "metadata": {},
   "outputs": [
    {
     "data": {
      "text/plain": [
       "False"
      ]
     },
     "execution_count": 49,
     "metadata": {},
     "output_type": "execute_result"
    }
   ],
   "source": [
    "#isalpha\n",
    "#checks everthing is alphabets or not\n",
    "\n",
    "k='kedar123.2'\n",
    "k.isalpha()\n"
   ]
  },
  {
   "cell_type": "code",
   "execution_count": 58,
   "id": "2aac156e",
   "metadata": {},
   "outputs": [
    {
     "data": {
      "text/plain": [
       "True"
      ]
     },
     "execution_count": 58,
     "metadata": {},
     "output_type": "execute_result"
    }
   ],
   "source": [
    "# isdigit\n",
    "# checking everthing should be digit\n",
    "\n",
    "a = '123'\n",
    "a.isdigit()"
   ]
  },
  {
   "cell_type": "markdown",
   "id": "6803d96f",
   "metadata": {},
   "source": [
    "##### 9. method : Title "
   ]
  },
  {
   "cell_type": "code",
   "execution_count": 61,
   "id": "abc6dc79",
   "metadata": {},
   "outputs": [
    {
     "name": "stdout",
     "output_type": "stream",
     "text": [
      "My Name Kedar Gajanan Sapar\n"
     ]
    }
   ],
   "source": [
    "#each word starting letter will be converted into capital letter\n",
    "\n",
    "a = 'my name kedar gajanan sapar'\n",
    "a = a.title()\n",
    "print(a)"
   ]
  },
  {
   "cell_type": "code",
   "execution_count": null,
   "id": "f4f4259a",
   "metadata": {},
   "outputs": [],
   "source": [
    "### split and join method will discuss after completing list method"
   ]
  }
 ],
 "metadata": {
  "kernelspec": {
   "display_name": "Python 3 (ipykernel)",
   "language": "python",
   "name": "python3"
  },
  "language_info": {
   "codemirror_mode": {
    "name": "ipython",
    "version": 3
   },
   "file_extension": ".py",
   "mimetype": "text/x-python",
   "name": "python",
   "nbconvert_exporter": "python",
   "pygments_lexer": "ipython3",
   "version": "3.10.9"
  }
 },
 "nbformat": 4,
 "nbformat_minor": 5
}
