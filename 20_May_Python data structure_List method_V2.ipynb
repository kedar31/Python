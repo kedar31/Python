{
 "cells": [
  {
   "cell_type": "markdown",
   "id": "53ad2a2a",
   "metadata": {},
   "source": [
    "### List method (Append done in previous file)"
   ]
  },
  {
   "cell_type": "code",
   "execution_count": null,
   "id": "b1acc346",
   "metadata": {},
   "outputs": [],
   "source": [
    "# we need to prove that list is mutable\n",
    "# not only list any topic if we want to prove it is a mutable we need to come accross 3 types:\n",
    "                    # i) check adding memory space:\n",
    "                    # ii) check replace in the same memory space:\n",
    "                    # iii) check delete memory space:"
   ]
  },
  {
   "cell_type": "code",
   "execution_count": 11,
   "id": "c264d119",
   "metadata": {},
   "outputs": [],
   "source": [
    "# i) Add some extra memory space\n",
    "\n",
    "a = [10,20.2,'data science']\n",
    "#for adding an extra space at the end of the list we can use method called append\n",
    "#append is going to increase the memory space at the right end\n"
   ]
  },
  {
   "cell_type": "markdown",
   "id": "c5574155",
   "metadata": {},
   "source": [
    "##### 1. append method"
   ]
  },
  {
   "cell_type": "code",
   "execution_count": 16,
   "id": "1ac9ce99",
   "metadata": {},
   "outputs": [
    {
     "name": "stdout",
     "output_type": "stream",
     "text": [
      "[10, 20.2, 'data science', 200]\n",
      "[10, 20.2, 'data science', 200, 'python']\n"
     ]
    }
   ],
   "source": [
    "a = [10,20.2,'data science']\n",
    "\n",
    "a.append(200)\n",
    "print(a)\n",
    "a.append('python')\n",
    "print(a)"
   ]
  },
  {
   "cell_type": "code",
   "execution_count": 18,
   "id": "cbfb5a4d",
   "metadata": {},
   "outputs": [
    {
     "name": "stdout",
     "output_type": "stream",
     "text": [
      "[10, 20.4, 'data science']\n"
     ]
    }
   ],
   "source": [
    "# how to replace wherever we want:\n",
    "\n",
    "a = [10,20.4,'data science']\n",
    "print(a)"
   ]
  },
  {
   "cell_type": "markdown",
   "id": "b42a489c",
   "metadata": {},
   "source": [
    "##### 2. insert method"
   ]
  },
  {
   "cell_type": "code",
   "execution_count": 21,
   "id": "ea11ac4b",
   "metadata": {},
   "outputs": [
    {
     "name": "stdout",
     "output_type": "stream",
     "text": [
      "[10, 20.4, 'python', 'python', 'data science']\n"
     ]
    }
   ],
   "source": [
    "# if we want to fill values where ever we want: use insert method:\n",
    "a.insert(2,'python')\n",
    "print(a)"
   ]
  },
  {
   "cell_type": "code",
   "execution_count": 28,
   "id": "9c77baab",
   "metadata": {},
   "outputs": [
    {
     "name": "stdout",
     "output_type": "stream",
     "text": [
      "[10, 45.8, 'Sapar']\n"
     ]
    },
    {
     "data": {
      "text/plain": [
       "[10, 45.8, 'Sapar']"
      ]
     },
     "execution_count": 28,
     "metadata": {},
     "output_type": "execute_result"
    }
   ],
   "source": [
    "#replace\n",
    "\n",
    "o = [10,45.8,'Kedar']\n",
    "o[2]='Sapar'\n",
    "print(o)\n",
    "o"
   ]
  },
  {
   "cell_type": "code",
   "execution_count": 31,
   "id": "e5ce4bbe",
   "metadata": {},
   "outputs": [
    {
     "name": "stdout",
     "output_type": "stream",
     "text": [
      "[10, 20]\n"
     ]
    }
   ],
   "source": [
    "# delete memory space:\n",
    "\n",
    "a = [10,20,'python']\n",
    "\n",
    "del a[2]\n",
    "print(a)"
   ]
  },
  {
   "cell_type": "code",
   "execution_count": 34,
   "id": "c70cd1c7",
   "metadata": {},
   "outputs": [
    {
     "name": "stdout",
     "output_type": "stream",
     "text": [
      "[10, 20, 30.3, 49, 'list', 87, 93, 'Keyboard']\n"
     ]
    }
   ],
   "source": [
    "a = [10,20,30.3,49,'kedar','list',87,93,'Keyboard']\n",
    "\n",
    "del a[4]\n",
    "print(a)"
   ]
  },
  {
   "cell_type": "code",
   "execution_count": 35,
   "id": "f20ccd9d",
   "metadata": {},
   "outputs": [],
   "source": [
    "## Finally list is mutable : Can change memory behaviour:"
   ]
  },
  {
   "cell_type": "code",
   "execution_count": null,
   "id": "cfce440d",
   "metadata": {},
   "outputs": [],
   "source": []
  },
  {
   "cell_type": "markdown",
   "id": "b950764c",
   "metadata": {},
   "source": [
    "### methods in list"
   ]
  },
  {
   "cell_type": "code",
   "execution_count": 37,
   "id": "7c69c96d",
   "metadata": {},
   "outputs": [
    {
     "name": "stdout",
     "output_type": "stream",
     "text": [
      "[100, 200, 300.56, 'raja', 'priya']\n"
     ]
    }
   ],
   "source": [
    "a = [100,200,300.56,'raja','priya']\n",
    "print(a)"
   ]
  },
  {
   "cell_type": "code",
   "execution_count": 40,
   "id": "343c51e6",
   "metadata": {},
   "outputs": [
    {
     "name": "stdout",
     "output_type": "stream",
     "text": [
      "[]\n"
     ]
    }
   ],
   "source": [
    "a.clear()  #it removes values in a list and make variable as empty: but clear ccant delete varible \n",
    "print(a)"
   ]
  },
  {
   "cell_type": "code",
   "execution_count": 46,
   "id": "35291e16",
   "metadata": {},
   "outputs": [
    {
     "name": "stdout",
     "output_type": "stream",
     "text": [
      "[100, 200, 300.56, 'raja', 'priya']\n"
     ]
    },
    {
     "ename": "NameError",
     "evalue": "name 'a' is not defined",
     "output_type": "error",
     "traceback": [
      "\u001b[1;31m---------------------------------------------------------------------------\u001b[0m",
      "\u001b[1;31mNameError\u001b[0m                                 Traceback (most recent call last)",
      "Cell \u001b[1;32mIn[46], line 6\u001b[0m\n\u001b[0;32m      4\u001b[0m \u001b[38;5;28mprint\u001b[39m(a)\n\u001b[0;32m      5\u001b[0m \u001b[38;5;28;01mdel\u001b[39;00m a\n\u001b[1;32m----> 6\u001b[0m \u001b[38;5;28mprint\u001b[39m(\u001b[43ma\u001b[49m)\n",
      "\u001b[1;31mNameError\u001b[0m: name 'a' is not defined"
     ]
    }
   ],
   "source": [
    "# delete\n",
    "\n",
    "a = [100,200,300.56,'raja','priya']\n",
    "print(a)\n",
    "del a\n",
    "print(a)"
   ]
  },
  {
   "cell_type": "code",
   "execution_count": 55,
   "id": "d90deea8",
   "metadata": {},
   "outputs": [
    {
     "name": "stdout",
     "output_type": "stream",
     "text": [
      "[100, 200, 300.56, 'raja', 'priya']\n",
      "[100, 200, 300.56, 'raja', 'priya']\n",
      "[100, 200, 300.56, 'raja', 'priya'] [100, 200, 300.56, 'raja', 'priya']\n"
     ]
    }
   ],
   "source": [
    "# copy\n",
    "\n",
    "a = [100,200,300.56,'raja','priya']\n",
    "\n",
    "b = a \n",
    "#or\n",
    "b = a.copy()\n",
    "\n",
    "print(b)\n",
    "print(a)\n",
    "print(a,b)"
   ]
  },
  {
   "cell_type": "code",
   "execution_count": 58,
   "id": "9daccb6f",
   "metadata": {},
   "outputs": [
    {
     "data": {
      "text/plain": [
       "2"
      ]
     },
     "execution_count": 58,
     "metadata": {},
     "output_type": "execute_result"
    }
   ],
   "source": [
    "# count\n",
    "\n",
    "# Count means count the values how many time appears in cell\n",
    "\n",
    "a = [100,200,300.56,'raja','priya',100]\n",
    "a.count(100)\n",
    "\n"
   ]
  },
  {
   "cell_type": "code",
   "execution_count": 60,
   "id": "cebced4d",
   "metadata": {},
   "outputs": [
    {
     "name": "stdout",
     "output_type": "stream",
     "text": [
      "[100, 200, 300.56, 'raja', 'priya', 100, 'what are you do']\n"
     ]
    }
   ],
   "source": [
    "# extend\n",
    "\n",
    "# extend is going to add another list at the end like append\n",
    "\n",
    "a = [100,200,300.56,'raja','priya',100]\n",
    "a.extend(['what are you do'])\n",
    "print(a)"
   ]
  },
  {
   "cell_type": "code",
   "execution_count": 72,
   "id": "c8f361d7",
   "metadata": {},
   "outputs": [
    {
     "data": {
      "text/plain": [
       "0"
      ]
     },
     "execution_count": 72,
     "metadata": {},
     "output_type": "execute_result"
    }
   ],
   "source": [
    "# index\n",
    "\n",
    "# used to find the index of value what we have given:\n",
    "\n",
    "a = [100,200,300.56,'raja','priya',100,'priya']\n",
    "\n",
    "a.index(100)\n",
    "\n",
    "# but there is 2 '100 in the list and only starting 100 has been counted but I want index value of last 100'"
   ]
  },
  {
   "cell_type": "code",
   "execution_count": 82,
   "id": "bb5ea711",
   "metadata": {},
   "outputs": [
    {
     "data": {
      "text/plain": [
       "6"
      ]
     },
     "execution_count": 82,
     "metadata": {},
     "output_type": "execute_result"
    }
   ],
   "source": [
    "# index \n",
    "\n",
    "a.index('priya',5,7)"
   ]
  },
  {
   "cell_type": "code",
   "execution_count": 90,
   "id": "74b3be51",
   "metadata": {},
   "outputs": [
    {
     "name": "stdout",
     "output_type": "stream",
     "text": [
      "[100, 200, 300.56, 'raja', 'priya', 100]\n"
     ]
    }
   ],
   "source": [
    "# pop\n",
    "\n",
    "# use to find last memory space \n",
    "#used to remove the last memory space : and we can also remove memory space where ever we want\n",
    "\n",
    "a = [100,200,300.56,'raja','priya',100,'priya']\n",
    "a.pop()\n",
    "print (a)"
   ]
  },
  {
   "cell_type": "code",
   "execution_count": 92,
   "id": "b8a6a5ac",
   "metadata": {},
   "outputs": [
    {
     "data": {
      "text/plain": [
       "'raja'"
      ]
     },
     "execution_count": 92,
     "metadata": {},
     "output_type": "execute_result"
    }
   ],
   "source": [
    "#  remove where ever we want : using index\n",
    "# I want to remove raja...How?\n",
    "\n",
    "# Simple\n",
    "\n",
    "a = [100,200,300.56,'raja','priya',100,'priya']\n",
    "a.pop(3)"
   ]
  },
  {
   "cell_type": "code",
   "execution_count": 94,
   "id": "67590c2b",
   "metadata": {},
   "outputs": [
    {
     "name": "stdout",
     "output_type": "stream",
     "text": [
      "[100, 200, 300.56, 'priya', 100, 'priya']\n"
     ]
    }
   ],
   "source": [
    "print(a)\n",
    "\n",
    "# see below result...Raja has been remove\n",
    "\n",
    "# pop fun using for identify the last memory space also remove memory space where ever we want\n"
   ]
  },
  {
   "cell_type": "code",
   "execution_count": 102,
   "id": "31bb2220",
   "metadata": {},
   "outputs": [
    {
     "name": "stdout",
     "output_type": "stream",
     "text": [
      "['kedar', 'Kapil', 'Pritesh']\n",
      "['kedar', 'Kapil', 'Pritesh', 'Hrutvik']\n"
     ]
    }
   ],
   "source": [
    "k = ['kedar','Kapil','Hrutvik','Pritesh','Ankit']\n",
    "k.pop()   # if we use only two brackets it will show the last memory value\n",
    "k.pop(2)  # if we use no of varibles in bracket then it will shows the that no memory value\n",
    "\n",
    "# after print the varible then that particular memory has been remove from that varible\n",
    "print(k)\n",
    "k.insert(4,'Hrutvik')\n",
    "print(k)"
   ]
  },
  {
   "cell_type": "code",
   "execution_count": 104,
   "id": "ad8370ca",
   "metadata": {},
   "outputs": [
    {
     "name": "stdout",
     "output_type": "stream",
     "text": [
      "['kedar', 'Kapil', 'Pritesh', 'Hrutvik']\n"
     ]
    }
   ],
   "source": [
    "print(k)"
   ]
  },
  {
   "cell_type": "code",
   "execution_count": 111,
   "id": "8e75b8bd",
   "metadata": {},
   "outputs": [
    {
     "name": "stdout",
     "output_type": "stream",
     "text": [
      "[100, 300.56, 'raja', 'priya', 100, 'priya']\n"
     ]
    }
   ],
   "source": [
    "# remove : doesn't take index it will take directly the value\n",
    "\n",
    "a = [100,200,300.56,'raja','priya',100,'priya']\n",
    "a.remove(200)\n",
    "print(a)"
   ]
  },
  {
   "cell_type": "code",
   "execution_count": 113,
   "id": "b68c7bc4",
   "metadata": {},
   "outputs": [
    {
     "name": "stdout",
     "output_type": "stream",
     "text": [
      "['priya', 100, 'priya', 'raja', 300.56, 200, 100]\n"
     ]
    }
   ],
   "source": [
    "# reverse\n",
    "\n",
    "a = [100,200,300.56,'raja','priya',100,'priya']\n",
    "a.reverse()\n",
    "print(a)\n",
    "\n",
    "# or"
   ]
  },
  {
   "cell_type": "code",
   "execution_count": 115,
   "id": "4259b3d4",
   "metadata": {},
   "outputs": [
    {
     "data": {
      "text/plain": [
       "['priya', 100, 'priya', 'raja', 300.56, 200, 100]"
      ]
     },
     "execution_count": 115,
     "metadata": {},
     "output_type": "execute_result"
    }
   ],
   "source": [
    "a = [100,200,300.56,'raja','priya',100,'priya']\n",
    "a[::-1]"
   ]
  },
  {
   "cell_type": "code",
   "execution_count": 116,
   "id": "29c0a523",
   "metadata": {},
   "outputs": [
    {
     "name": "stdout",
     "output_type": "stream",
     "text": [
      "[10, 22, 25, 43, 45, 67, 87, 90, 93]\n"
     ]
    }
   ],
   "source": [
    "# sort : \n",
    "# simple make them in ascending or descending order\n",
    "# asending order means upward\n",
    "# desending order means downward\n",
    "\n",
    "# sort method will help us in doing this\n",
    "\n",
    "a = [10,67,43,90,25,87,93,22,45]\n",
    "# make values in ascending order\n",
    "# () --> paranethesis\n",
    "\n",
    "a.sort()  # default it will  asending order\n",
    "print(a)\n"
   ]
  },
  {
   "cell_type": "code",
   "execution_count": 123,
   "id": "4fcb8952",
   "metadata": {},
   "outputs": [
    {
     "name": "stdout",
     "output_type": "stream",
     "text": [
      "[93, 90, 87, 67, 45, 43, 25, 22, 10]\n"
     ]
    }
   ],
   "source": [
    "# But I want in desending order\n",
    "\n",
    "a = [10,67,43,90,25,87,93,22,45]\n",
    "a.sort(reverse=True)\n",
    "print(a)"
   ]
  },
  {
   "cell_type": "code",
   "execution_count": 117,
   "id": "321138c7",
   "metadata": {},
   "outputs": [
    {
     "name": "stdout",
     "output_type": "stream",
     "text": [
      "['Aarti', 'Bhanupriya', 'Kapil', 'kedar', 'pritesh']\n"
     ]
    }
   ],
   "source": [
    "a = ['kedar','pritesh','Kapil','Bhanupriya','Aarti']\n",
    "a.sort()\n",
    "print(a)"
   ]
  },
  {
   "cell_type": "code",
   "execution_count": 125,
   "id": "60d7dfdc",
   "metadata": {},
   "outputs": [
    {
     "name": "stdout",
     "output_type": "stream",
     "text": [
      "['pritesh', 'kedar', 'Kapil', 'Bhanupriya', 'Aarti']\n"
     ]
    }
   ],
   "source": [
    "a = ['kedar','pritesh','Kapil','Bhanupriya','Aarti']\n",
    "a.sort(reverse=True)\n",
    "print(a)\n"
   ]
  },
  {
   "cell_type": "code",
   "execution_count": null,
   "id": "13b768e4",
   "metadata": {},
   "outputs": [],
   "source": []
  }
 ],
 "metadata": {
  "kernelspec": {
   "display_name": "Python 3 (ipykernel)",
   "language": "python",
   "name": "python3"
  },
  "language_info": {
   "codemirror_mode": {
    "name": "ipython",
    "version": 3
   },
   "file_extension": ".py",
   "mimetype": "text/x-python",
   "name": "python",
   "nbconvert_exporter": "python",
   "pygments_lexer": "ipython3",
   "version": "3.10.9"
  }
 },
 "nbformat": 4,
 "nbformat_minor": 5
}
